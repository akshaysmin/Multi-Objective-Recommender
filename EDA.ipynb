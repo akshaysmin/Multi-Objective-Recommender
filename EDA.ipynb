{
  "cells": [
    {
      "cell_type": "markdown",
      "metadata": {
        "id": "A-rQh80lAYHp"
      },
      "source": [
        "Goal:\n",
        "\n",
        "Build a single entry to predict click-through, add-to-cart, and conversion rates based on previous same-session events.\n",
        "\n",
        "\n",
        "    train.jsonl - the training data, which contains full session data\n",
        "        session - the unique session id\n",
        "        events - the time ordered sequence of events in the session\n",
        "            aid - the article id (product code) of the associated event\n",
        "            ts - the Unix timestamp of the event\n",
        "            type - the event type, i.e., whether a product was clicked, added to the user's cart, or ordered during the session\n",
        "    test.jsonl - the test data, which contains truncated session data\n",
        "        your task is to predict the next aid clicked after the session truncation, as well as the the remaining aids that are added to carts and orders; you may predict up to 20 values for each session type\n",
        "    sample_submission.csv - a sample submission file in the correct format\n"
      ]
    },
    {
      "cell_type": "code",
      "execution_count": null,
      "metadata": {
        "id": "_DlmCyOW7tNd"
      },
      "outputs": [],
      "source": [
        "import pandas as pd\n",
        "import numpy as np\n",
        "from sklearn import preprocessing\n",
        "from sklearn.decomposition import PCA\n",
        "from sklearn.linear_model import LinearRegression\n",
        "from sklearn.model_selection import train_test_split, GridSearchCV\n",
        "from sklearn.metrics import mean_squared_error, r2_score\n",
        "\n",
        "import statsmodels.api as sm\n",
        "from statsmodels.tsa.arima.model import ARIMA\n",
        "from statsmodels.graphics.tsaplots import plot_acf,plot_pacf\n",
        "from statsmodels.tsa.stattools import adfuller\n",
        "\n",
        "import seaborn as sns\n",
        "sns.set()\n",
        "import matplotlib.pyplot as plt\n",
        "\n",
        "import warnings\n",
        "warnings.filterwarnings('ignore')\n",
        "\n",
        "from multiprocessing import Pool\n",
        "\n",
        "import re"
      ]
    },
    {
      "cell_type": "code",
      "execution_count": null,
      "metadata": {
        "id": "vPGViFIG7wsU",
        "colab": {
          "base_uri": "https://localhost:8080/"
        },
        "outputId": "74e2ca2b-a01d-4ce9-fb38-108aea562381"
      },
      "outputs": [
        {
          "output_type": "stream",
          "name": "stdout",
          "text": [
            "Mounted at /content/gdrive\n"
          ]
        }
      ],
      "source": [
        "from google.colab import drive\n",
        "drive.mount(\"/content/gdrive\", force_remount=True)"
      ]
    },
    {
      "cell_type": "code",
      "execution_count": null,
      "metadata": {
        "id": "tUtZW7zF7yjp"
      },
      "outputs": [],
      "source": [
        "import os\n",
        "os.environ['KAGGLE_CONFIG_DIR'] = \"/content/gdrive/MyDrive/Datascience Projects/Kaggle OTTO Recommender\""
      ]
    },
    {
      "cell_type": "code",
      "execution_count": null,
      "metadata": {
        "id": "zprPhCUG70X4",
        "colab": {
          "base_uri": "https://localhost:8080/"
        },
        "outputId": "a2189aba-b87c-4992-cf91-c0621612dc62"
      },
      "outputs": [
        {
          "output_type": "stream",
          "name": "stdout",
          "text": [
            "Downloading otto-recommender-system.zip to /content\n",
            "100% 1.93G/1.94G [00:21<00:00, 102MB/s] \n",
            "100% 1.94G/1.94G [00:21<00:00, 96.1MB/s]\n"
          ]
        }
      ],
      "source": [
        "!kaggle competitions download 'otto-recommender-system'"
      ]
    },
    {
      "cell_type": "code",
      "execution_count": null,
      "metadata": {
        "id": "B0q8UfEg72HW"
      },
      "outputs": [],
      "source": [
        "!unzip -q /content/otto-recommender-system.zip -d ."
      ]
    },
    {
      "cell_type": "code",
      "execution_count": null,
      "metadata": {
        "colab": {
          "base_uri": "https://localhost:8080/",
          "height": 424
        },
        "id": "QizrglwPGWpE",
        "outputId": "54452196-2619-4762-a290-46d0e39bb71d"
      },
      "outputs": [
        {
          "data": {
            "text/html": [
              "\n",
              "  <div id=\"df-a24aaaa8-0ad5-42ef-b8a6-8a6b574f6762\">\n",
              "    <div class=\"colab-df-container\">\n",
              "      <div>\n",
              "<style scoped>\n",
              "    .dataframe tbody tr th:only-of-type {\n",
              "        vertical-align: middle;\n",
              "    }\n",
              "\n",
              "    .dataframe tbody tr th {\n",
              "        vertical-align: top;\n",
              "    }\n",
              "\n",
              "    .dataframe thead th {\n",
              "        text-align: right;\n",
              "    }\n",
              "</style>\n",
              "<table border=\"1\" class=\"dataframe\">\n",
              "  <thead>\n",
              "    <tr style=\"text-align: right;\">\n",
              "      <th></th>\n",
              "      <th>session_type</th>\n",
              "      <th>labels</th>\n",
              "    </tr>\n",
              "  </thead>\n",
              "  <tbody>\n",
              "    <tr>\n",
              "      <th>0</th>\n",
              "      <td>12899779_clicks</td>\n",
              "      <td>129004 126836 118524</td>\n",
              "    </tr>\n",
              "    <tr>\n",
              "      <th>1</th>\n",
              "      <td>12899779_carts</td>\n",
              "      <td>129004 126836 118524</td>\n",
              "    </tr>\n",
              "    <tr>\n",
              "      <th>2</th>\n",
              "      <td>12899779_orders</td>\n",
              "      <td>129004 126836 118524</td>\n",
              "    </tr>\n",
              "    <tr>\n",
              "      <th>3</th>\n",
              "      <td>12899780_clicks</td>\n",
              "      <td>129004 126836 118524</td>\n",
              "    </tr>\n",
              "    <tr>\n",
              "      <th>4</th>\n",
              "      <td>12899780_carts</td>\n",
              "      <td>129004 126836 118524</td>\n",
              "    </tr>\n",
              "    <tr>\n",
              "      <th>...</th>\n",
              "      <td>...</td>\n",
              "      <td>...</td>\n",
              "    </tr>\n",
              "    <tr>\n",
              "      <th>5015404</th>\n",
              "      <td>14571580_carts</td>\n",
              "      <td>129004 126836 118524</td>\n",
              "    </tr>\n",
              "    <tr>\n",
              "      <th>5015405</th>\n",
              "      <td>14571580_orders</td>\n",
              "      <td>129004 126836 118524</td>\n",
              "    </tr>\n",
              "    <tr>\n",
              "      <th>5015406</th>\n",
              "      <td>14571581_clicks</td>\n",
              "      <td>129004 126836 118524</td>\n",
              "    </tr>\n",
              "    <tr>\n",
              "      <th>5015407</th>\n",
              "      <td>14571581_carts</td>\n",
              "      <td>129004 126836 118524</td>\n",
              "    </tr>\n",
              "    <tr>\n",
              "      <th>5015408</th>\n",
              "      <td>14571581_orders</td>\n",
              "      <td>129004 126836 118524</td>\n",
              "    </tr>\n",
              "  </tbody>\n",
              "</table>\n",
              "<p>5015409 rows × 2 columns</p>\n",
              "</div>\n",
              "      <button class=\"colab-df-convert\" onclick=\"convertToInteractive('df-a24aaaa8-0ad5-42ef-b8a6-8a6b574f6762')\"\n",
              "              title=\"Convert this dataframe to an interactive table.\"\n",
              "              style=\"display:none;\">\n",
              "        \n",
              "  <svg xmlns=\"http://www.w3.org/2000/svg\" height=\"24px\"viewBox=\"0 0 24 24\"\n",
              "       width=\"24px\">\n",
              "    <path d=\"M0 0h24v24H0V0z\" fill=\"none\"/>\n",
              "    <path d=\"M18.56 5.44l.94 2.06.94-2.06 2.06-.94-2.06-.94-.94-2.06-.94 2.06-2.06.94zm-11 1L8.5 8.5l.94-2.06 2.06-.94-2.06-.94L8.5 2.5l-.94 2.06-2.06.94zm10 10l.94 2.06.94-2.06 2.06-.94-2.06-.94-.94-2.06-.94 2.06-2.06.94z\"/><path d=\"M17.41 7.96l-1.37-1.37c-.4-.4-.92-.59-1.43-.59-.52 0-1.04.2-1.43.59L10.3 9.45l-7.72 7.72c-.78.78-.78 2.05 0 2.83L4 21.41c.39.39.9.59 1.41.59.51 0 1.02-.2 1.41-.59l7.78-7.78 2.81-2.81c.8-.78.8-2.07 0-2.86zM5.41 20L4 18.59l7.72-7.72 1.47 1.35L5.41 20z\"/>\n",
              "  </svg>\n",
              "      </button>\n",
              "      \n",
              "  <style>\n",
              "    .colab-df-container {\n",
              "      display:flex;\n",
              "      flex-wrap:wrap;\n",
              "      gap: 12px;\n",
              "    }\n",
              "\n",
              "    .colab-df-convert {\n",
              "      background-color: #E8F0FE;\n",
              "      border: none;\n",
              "      border-radius: 50%;\n",
              "      cursor: pointer;\n",
              "      display: none;\n",
              "      fill: #1967D2;\n",
              "      height: 32px;\n",
              "      padding: 0 0 0 0;\n",
              "      width: 32px;\n",
              "    }\n",
              "\n",
              "    .colab-df-convert:hover {\n",
              "      background-color: #E2EBFA;\n",
              "      box-shadow: 0px 1px 2px rgba(60, 64, 67, 0.3), 0px 1px 3px 1px rgba(60, 64, 67, 0.15);\n",
              "      fill: #174EA6;\n",
              "    }\n",
              "\n",
              "    [theme=dark] .colab-df-convert {\n",
              "      background-color: #3B4455;\n",
              "      fill: #D2E3FC;\n",
              "    }\n",
              "\n",
              "    [theme=dark] .colab-df-convert:hover {\n",
              "      background-color: #434B5C;\n",
              "      box-shadow: 0px 1px 3px 1px rgba(0, 0, 0, 0.15);\n",
              "      filter: drop-shadow(0px 1px 2px rgba(0, 0, 0, 0.3));\n",
              "      fill: #FFFFFF;\n",
              "    }\n",
              "  </style>\n",
              "\n",
              "      <script>\n",
              "        const buttonEl =\n",
              "          document.querySelector('#df-a24aaaa8-0ad5-42ef-b8a6-8a6b574f6762 button.colab-df-convert');\n",
              "        buttonEl.style.display =\n",
              "          google.colab.kernel.accessAllowed ? 'block' : 'none';\n",
              "\n",
              "        async function convertToInteractive(key) {\n",
              "          const element = document.querySelector('#df-a24aaaa8-0ad5-42ef-b8a6-8a6b574f6762');\n",
              "          const dataTable =\n",
              "            await google.colab.kernel.invokeFunction('convertToInteractive',\n",
              "                                                     [key], {});\n",
              "          if (!dataTable) return;\n",
              "\n",
              "          const docLinkHtml = 'Like what you see? Visit the ' +\n",
              "            '<a target=\"_blank\" href=https://colab.research.google.com/notebooks/data_table.ipynb>data table notebook</a>'\n",
              "            + ' to learn more about interactive tables.';\n",
              "          element.innerHTML = '';\n",
              "          dataTable['output_type'] = 'display_data';\n",
              "          await google.colab.output.renderOutput(dataTable, element);\n",
              "          const docLink = document.createElement('div');\n",
              "          docLink.innerHTML = docLinkHtml;\n",
              "          element.appendChild(docLink);\n",
              "        }\n",
              "      </script>\n",
              "    </div>\n",
              "  </div>\n",
              "  "
            ],
            "text/plain": [
              "            session_type                labels\n",
              "0        12899779_clicks  129004 126836 118524\n",
              "1         12899779_carts  129004 126836 118524\n",
              "2        12899779_orders  129004 126836 118524\n",
              "3        12899780_clicks  129004 126836 118524\n",
              "4         12899780_carts  129004 126836 118524\n",
              "...                  ...                   ...\n",
              "5015404   14571580_carts  129004 126836 118524\n",
              "5015405  14571580_orders  129004 126836 118524\n",
              "5015406  14571581_clicks  129004 126836 118524\n",
              "5015407   14571581_carts  129004 126836 118524\n",
              "5015408  14571581_orders  129004 126836 118524\n",
              "\n",
              "[5015409 rows x 2 columns]"
            ]
          },
          "execution_count": 6,
          "metadata": {},
          "output_type": "execute_result"
        }
      ],
      "source": [
        "pd.read_csv('sample_submission.csv')"
      ]
    },
    {
      "cell_type": "code",
      "execution_count": null,
      "metadata": {
        "colab": {
          "base_uri": "https://localhost:8080/"
        },
        "id": "S2MLiMoBGhFH",
        "outputId": "efd2d864-a092-4b31-8c80-81bae32207f9"
      },
      "outputs": [
        {
          "name": "stdout",
          "output_type": "stream",
          "text": [
            "{'session': 12899779, 'events': [{'aid': 59625, 'ts': 1661724000278, 'type': 'clicks'}]}\n",
            "{'session': 12899780, 'events': [{'aid': 1142000, 'ts': 1661724000378, 'type': 'clicks'}, {'aid': 582732, 'ts': 1661724058352, 'type': 'clicks'}, {'aid': 973453, 'ts': 1661724109199, 'type': 'clicks'}, {'aid': 736515, 'ts': 1661724136868, 'type': 'clicks'}, {'aid': 1142000, 'ts': 1661724155248, 'type': 'clicks'}]}\n",
            "{'session': 12899781, 'events': [{'aid': 141736, 'ts': 1661724000559, 'type': 'clicks'}, {'aid': 199008, 'ts': 1661724022851, 'type': 'clicks'}, {'aid': 57315, 'ts': 1661724170835, 'type': 'clicks'}, {'aid': 194067, 'ts': 1661724246188, 'type': 'clicks'}, {'aid': 199008, 'ts': 1661780623778, 'type': 'clicks'}, {'aid': 199008, 'ts': 1661781274081, 'type': 'clicks'}, {'aid': 199008, 'ts': 1661781409993, 'type': 'carts'}, {'aid': 199008, 'ts': 1661804151788, 'type': 'clicks'}, {'aid': 199008, 'ts': 1662060028567, 'type': 'clicks'}, {'aid': 199008, 'ts': 1662060064706, 'type': 'clicks'}, {'aid': 918667, 'ts': 1662060160406, 'type': 'clicks'}]}\n",
            "{'session': 12899782, 'events': [{'aid': 1669402, 'ts': 1661724000568, 'type': 'clicks'}, {'aid': 1494780, 'ts': 1661724163530, 'type': 'clicks'}, {'aid': 1494780, 'ts': 1661724190624, 'type': 'clicks'}, {'aid': 1494780, 'ts': 1661724203140, 'type': 'clicks'}, {'aid': 1494780, 'ts': 1661724244341, 'type': 'carts'}, {'aid': 1674681, 'ts': 1661724816749, 'type': 'clicks'}, {'aid': 602722, 'ts': 1661724885670, 'type': 'clicks'}, {'aid': 1596098, 'ts': 1661725306961, 'type': 'clicks'}, {'aid': 45034, 'ts': 1661725434870, 'type': 'clicks'}, {'aid': 603159, 'ts': 1661725567598, 'type': 'clicks'}, {'aid': 413962, 'ts': 1661765601645, 'type': 'clicks'}, {'aid': 413962, 'ts': 1661765608861, 'type': 'carts'}, {'aid': 413962, 'ts': 1661765683962, 'type': 'clicks'}, {'aid': 779477, 'ts': 1661765990636, 'type': 'clicks'}, {'aid': 1037537, 'ts': 1661766045371, 'type': 'clicks'}, {'aid': 779477, 'ts': 1661766058833, 'type': 'clicks'}, {'aid': 779477, 'ts': 1661766162910, 'type': 'carts'}, {'aid': 476063, 'ts': 1661766167646, 'type': 'clicks'}, {'aid': 562753, 'ts': 1661766178974, 'type': 'carts'}, {'aid': 779477, 'ts': 1661766181059, 'type': 'clicks'}, {'aid': 562753, 'ts': 1661785953423, 'type': 'clicks'}, {'aid': 476063, 'ts': 1661785989572, 'type': 'carts'}, {'aid': 779477, 'ts': 1661785991473, 'type': 'clicks'}, {'aid': 779477, 'ts': 1661786009326, 'type': 'carts'}, {'aid': 562753, 'ts': 1661786014432, 'type': 'clicks'}, {'aid': 779477, 'ts': 1661786017266, 'type': 'clicks'}, {'aid': 476063, 'ts': 1661786024954, 'type': 'clicks'}, {'aid': 975116, 'ts': 1661786059083, 'type': 'clicks'}, {'aid': 975116, 'ts': 1661786078505, 'type': 'carts'}, {'aid': 595994, 'ts': 1661786240200, 'type': 'clicks'}, {'aid': 595994, 'ts': 1661786254403, 'type': 'carts'}, {'aid': 595994, 'ts': 1661786284439, 'type': 'clicks'}, {'aid': 1299062, 'ts': 1661786321468, 'type': 'clicks'}, {'aid': 1352725, 'ts': 1661802752201, 'type': 'clicks'}, {'aid': 1344773, 'ts': 1661802822218, 'type': 'clicks'}, {'aid': 1344773, 'ts': 1661802836762, 'type': 'carts'}, {'aid': 794259, 'ts': 1661802866448, 'type': 'clicks'}, {'aid': 363336, 'ts': 1661802911345, 'type': 'clicks'}, {'aid': 829180, 'ts': 1661802976266, 'type': 'clicks'}, {'aid': 1711180, 'ts': 1661803002384, 'type': 'carts'}, {'aid': 127404, 'ts': 1661803019431, 'type': 'carts'}, {'aid': 654809, 'ts': 1661803139163, 'type': 'clicks'}, {'aid': 723956, 'ts': 1661803162990, 'type': 'clicks'}, {'aid': 476063, 'ts': 1661803267739, 'type': 'clicks'}, {'aid': 975116, 'ts': 1661803282620, 'type': 'clicks'}, {'aid': 406001, 'ts': 1661803489097, 'type': 'clicks'}, {'aid': 889671, 'ts': 1661803500037, 'type': 'clicks'}, {'aid': 889671, 'ts': 1661803510829, 'type': 'carts'}, {'aid': 834354, 'ts': 1661803530264, 'type': 'clicks'}, {'aid': 834354, 'ts': 1661803539038, 'type': 'carts'}, {'aid': 889671, 'ts': 1661803545858, 'type': 'clicks'}, {'aid': 1099390, 'ts': 1661803555960, 'type': 'clicks'}, {'aid': 987399, 'ts': 1661803571124, 'type': 'clicks'}, {'aid': 987399, 'ts': 1661803578438, 'type': 'carts'}, {'aid': 638410, 'ts': 1661803600761, 'type': 'clicks'}, {'aid': 1072927, 'ts': 1661803621612, 'type': 'clicks'}, {'aid': 530899, 'ts': 1661803640817, 'type': 'clicks'}, {'aid': 229748, 'ts': 1661803651343, 'type': 'clicks'}, {'aid': 229748, 'ts': 1661803658101, 'type': 'clicks'}, {'aid': 740494, 'ts': 1661803681480, 'type': 'clicks'}, {'aid': 740494, 'ts': 1661803697626, 'type': 'carts'}, {'aid': 834354, 'ts': 1661803710262, 'type': 'carts'}, {'aid': 1669402, 'ts': 1661803953178, 'type': 'orders'}, {'aid': 829180, 'ts': 1661803953178, 'type': 'orders'}, {'aid': 1696036, 'ts': 1661803953178, 'type': 'orders'}, {'aid': 479970, 'ts': 1661803953178, 'type': 'orders'}, {'aid': 834354, 'ts': 1661803953178, 'type': 'orders'}, {'aid': 1033148, 'ts': 1661803953178, 'type': 'orders'}, {'aid': 595994, 'ts': 1661803953178, 'type': 'orders'}, {'aid': 1007613, 'ts': 1661803953178, 'type': 'orders'}]}\n",
            "{'session': 12899783, 'events': [{'aid': 255297, 'ts': 1661724000572, 'type': 'clicks'}, {'aid': 1114789, 'ts': 1661724004924, 'type': 'clicks'}, {'aid': 255297, 'ts': 1661724010953, 'type': 'clicks'}, {'aid': 300127, 'ts': 1661730417845, 'type': 'clicks'}, {'aid': 198385, 'ts': 1661730433368, 'type': 'clicks'}, {'aid': 300127, 'ts': 1661730438179, 'type': 'clicks'}, {'aid': 1729553, 'ts': 1661730496587, 'type': 'clicks'}, {'aid': 1216820, 'ts': 1661779640356, 'type': 'clicks'}, {'aid': 1754419, 'ts': 1661779655973, 'type': 'clicks'}, {'aid': 607638, 'ts': 1661779678936, 'type': 'clicks'}, {'aid': 1817895, 'ts': 1662041140398, 'type': 'clicks'}]}\n",
            "{'session': 12899784, 'events': [{'aid': 1036375, 'ts': 1661724000604, 'type': 'clicks'}, {'aid': 1269952, 'ts': 1662005227869, 'type': 'clicks'}, {'aid': 476216, 'ts': 1662005264482, 'type': 'clicks'}, {'aid': 1579935, 'ts': 1662005292756, 'type': 'clicks'}, {'aid': 1546830, 'ts': 1662005317295, 'type': 'clicks'}, {'aid': 22981, 'ts': 1662005336596, 'type': 'clicks'}, {'aid': 1190477, 'ts': 1662005518930, 'type': 'clicks'}]}\n",
            "{'session': 12899785, 'events': [{'aid': 1784451, 'ts': 1661724000809, 'type': 'clicks'}, {'aid': 1169631, 'ts': 1661724026526, 'type': 'clicks'}, {'aid': 95259, 'ts': 1661724136440, 'type': 'clicks'}, {'aid': 970225, 'ts': 1661724209327, 'type': 'clicks'}, {'aid': 95259, 'ts': 1661724358280, 'type': 'clicks'}, {'aid': 608210, 'ts': 1661724398796, 'type': 'clicks'}, {'aid': 95259, 'ts': 1661724432230, 'type': 'clicks'}, {'aid': 1308865, 'ts': 1661724435515, 'type': 'clicks'}, {'aid': 179800, 'ts': 1661724460296, 'type': 'clicks'}, {'aid': 383003, 'ts': 1661724507284, 'type': 'clicks'}, {'aid': 1444536, 'ts': 1661724547690, 'type': 'clicks'}, {'aid': 1254866, 'ts': 1661724569038, 'type': 'clicks'}, {'aid': 453905, 'ts': 1661724597973, 'type': 'clicks'}, {'aid': 775584, 'ts': 1661724617822, 'type': 'clicks'}, {'aid': 1154962, 'ts': 1661724716009, 'type': 'clicks'}, {'aid': 453905, 'ts': 1661724768432, 'type': 'clicks'}, {'aid': 544238, 'ts': 1661724809109, 'type': 'clicks'}, {'aid': 453905, 'ts': 1661724816323, 'type': 'clicks'}, {'aid': 383003, 'ts': 1661724865500, 'type': 'clicks'}, {'aid': 453905, 'ts': 1661724872640, 'type': 'clicks'}, {'aid': 903397, 'ts': 1661724953803, 'type': 'clicks'}, {'aid': 453905, 'ts': 1661724957448, 'type': 'clicks'}, {'aid': 383003, 'ts': 1661724979978, 'type': 'clicks'}, {'aid': 41655, 'ts': 1661725068342, 'type': 'clicks'}, {'aid': 383003, 'ts': 1661725107728, 'type': 'clicks'}, {'aid': 51772, 'ts': 1661725279667, 'type': 'clicks'}, {'aid': 775584, 'ts': 1661725299470, 'type': 'clicks'}, {'aid': 587969, 'ts': 1661725355396, 'type': 'clicks'}, {'aid': 160666, 'ts': 1661726057554, 'type': 'clicks'}, {'aid': 587969, 'ts': 1661726065218, 'type': 'clicks'}, {'aid': 41655, 'ts': 1661726074001, 'type': 'clicks'}, {'aid': 587969, 'ts': 1661726092597, 'type': 'clicks'}, {'aid': 775584, 'ts': 1661726105410, 'type': 'clicks'}, {'aid': 775584, 'ts': 1661726154058, 'type': 'clicks'}, {'aid': 453905, 'ts': 1661726177913, 'type': 'clicks'}, {'aid': 41655, 'ts': 1661726201238, 'type': 'clicks'}, {'aid': 1154962, 'ts': 1661726300264, 'type': 'clicks'}, {'aid': 1259418, 'ts': 1661726445580, 'type': 'clicks'}, {'aid': 552698, 'ts': 1661726543075, 'type': 'clicks'}, {'aid': 543919, 'ts': 1661726580958, 'type': 'clicks'}, {'aid': 1071379, 'ts': 1661726651588, 'type': 'clicks'}, {'aid': 543919, 'ts': 1661726656473, 'type': 'clicks'}, {'aid': 453905, 'ts': 1661726759625, 'type': 'clicks'}, {'aid': 41655, 'ts': 1661726781707, 'type': 'clicks'}, {'aid': 258458, 'ts': 1661726808454, 'type': 'clicks'}, {'aid': 1553332, 'ts': 1661726831207, 'type': 'clicks'}, {'aid': 874493, 'ts': 1661726940871, 'type': 'clicks'}, {'aid': 258458, 'ts': 1661726945601, 'type': 'clicks'}, {'aid': 258458, 'ts': 1661726955846, 'type': 'clicks'}, {'aid': 1433061, 'ts': 1661726963856, 'type': 'clicks'}, {'aid': 258458, 'ts': 1661726976507, 'type': 'clicks'}, {'aid': 10851, 'ts': 1661726994823, 'type': 'clicks'}, {'aid': 1784451, 'ts': 1661727100591, 'type': 'clicks'}, {'aid': 1169631, 'ts': 1661727130632, 'type': 'clicks'}, {'aid': 656708, 'ts': 1661727249493, 'type': 'clicks'}, {'aid': 1308865, 'ts': 1661727290470, 'type': 'clicks'}, {'aid': 1308865, 'ts': 1661727316989, 'type': 'clicks'}, {'aid': 1497876, 'ts': 1661732680586, 'type': 'clicks'}, {'aid': 1784451, 'ts': 1661732711713, 'type': 'clicks'}, {'aid': 775584, 'ts': 1661732809477, 'type': 'clicks'}, {'aid': 1008570, 'ts': 1661732846469, 'type': 'clicks'}, {'aid': 219032, 'ts': 1661732928381, 'type': 'clicks'}, {'aid': 41655, 'ts': 1661732957592, 'type': 'clicks'}, {'aid': 1397811, 'ts': 1661733007746, 'type': 'clicks'}, {'aid': 453905, 'ts': 1661733114215, 'type': 'clicks'}, {'aid': 258458, 'ts': 1661733198099, 'type': 'clicks'}, {'aid': 453905, 'ts': 1661733243961, 'type': 'clicks'}, {'aid': 258458, 'ts': 1661733258176, 'type': 'clicks'}, {'aid': 253080, 'ts': 1661760579927, 'type': 'clicks'}, {'aid': 874493, 'ts': 1661760607631, 'type': 'clicks'}, {'aid': 253080, 'ts': 1661760613993, 'type': 'clicks'}, {'aid': 1497876, 'ts': 1661760629730, 'type': 'clicks'}, {'aid': 453905, 'ts': 1661760665884, 'type': 'clicks'}, {'aid': 1497876, 'ts': 1661760679400, 'type': 'clicks'}, {'aid': 1179870, 'ts': 1661760693309, 'type': 'clicks'}, {'aid': 1497876, 'ts': 1661760703614, 'type': 'clicks'}, {'aid': 253080, 'ts': 1661760710834, 'type': 'clicks'}, {'aid': 41655, 'ts': 1661760740094, 'type': 'clicks'}, {'aid': 614626, 'ts': 1661760809064, 'type': 'clicks'}, {'aid': 804799, 'ts': 1661760864790, 'type': 'clicks'}, {'aid': 614626, 'ts': 1661760885598, 'type': 'clicks'}, {'aid': 41655, 'ts': 1661760889394, 'type': 'clicks'}, {'aid': 453905, 'ts': 1661760919371, 'type': 'clicks'}, {'aid': 41655, 'ts': 1661760959937, 'type': 'clicks'}, {'aid': 258458, 'ts': 1661760979339, 'type': 'clicks'}, {'aid': 1433061, 'ts': 1661761001911, 'type': 'clicks'}, {'aid': 258458, 'ts': 1661761012201, 'type': 'clicks'}, {'aid': 160666, 'ts': 1661761026293, 'type': 'clicks'}, {'aid': 41655, 'ts': 1661761039932, 'type': 'clicks'}, {'aid': 160666, 'ts': 1661761062319, 'type': 'clicks'}, {'aid': 258458, 'ts': 1661761065711, 'type': 'clicks'}, {'aid': 383003, 'ts': 1661761082905, 'type': 'clicks'}, {'aid': 258458, 'ts': 1661761087173, 'type': 'clicks'}, {'aid': 1497876, 'ts': 1661761106839, 'type': 'clicks'}, {'aid': 775584, 'ts': 1661761145481, 'type': 'clicks'}, {'aid': 453905, 'ts': 1661761186665, 'type': 'clicks'}, {'aid': 775584, 'ts': 1661761200649, 'type': 'clicks'}, {'aid': 453905, 'ts': 1661761243886, 'type': 'clicks'}, {'aid': 775584, 'ts': 1661761259710, 'type': 'clicks'}, {'aid': 1179870, 'ts': 1661761290748, 'type': 'clicks'}, {'aid': 775584, 'ts': 1661761308012, 'type': 'clicks'}, {'aid': 1497876, 'ts': 1661761310542, 'type': 'clicks'}]}\n",
            "{'session': 12899786, 'events': [{'aid': 955252, 'ts': 1661724001174, 'type': 'clicks'}, {'aid': 955252, 'ts': 1661724017764, 'type': 'carts'}]}\n",
            "{'session': 12899787, 'events': [{'aid': 1682750, 'ts': 1661724001617, 'type': 'clicks'}, {'aid': 1682750, 'ts': 1661724025329, 'type': 'carts'}, {'aid': 1682750, 'ts': 1661724029598, 'type': 'carts'}, {'aid': 1682750, 'ts': 1661724042424, 'type': 'carts'}, {'aid': 1024433, 'ts': 1661724195533, 'type': 'clicks'}]}\n",
            "{'session': 12899788, 'events': [{'aid': 245131, 'ts': 1661724001619, 'type': 'clicks'}, {'aid': 39846, 'ts': 1661724018620, 'type': 'clicks'}, {'aid': 1259911, 'ts': 1661724034826, 'type': 'clicks'}, {'aid': 1663048, 'ts': 1661724078816, 'type': 'clicks'}]}\n",
            "CPU times: user 4.71 ms, sys: 4.9 ms, total: 9.61 ms\n",
            "Wall time: 14.2 ms\n"
          ]
        }
      ],
      "source": [
        "%%time\n",
        "with open('test.jsonl') as f:\n",
        "  out = []\n",
        "  i=0\n",
        "  while i<10:\n",
        "    out.append(eval(f.readline()))\n",
        "    print(out[-1])\n",
        "    i+=1"
      ]
    },
    {
      "cell_type": "code",
      "execution_count": null,
      "metadata": {
        "id": "TUTUl_ENF9ZW",
        "colab": {
          "base_uri": "https://localhost:8080/"
        },
        "outputId": "63f10b23-c76c-4291-c9e3-8785f6ec0eaa"
      },
      "outputs": [
        {
          "output_type": "stream",
          "name": "stdout",
          "text": [
            "{\"session\":12899779,\"events\":[{\"aid\":59625,\"ts\":1661724000278,\"type\":\"clicks\"}]}\n",
            "\n",
            "{\"session\":12899780,\"events\":[{\"aid\":1142000,\"ts\":1661724000378,\"type\":\"clicks\"},{\"aid\":582732,\"ts\":1661724058352,\"type\":\"clicks\"},{\"aid\":973453,\"ts\":1661724109199,\"type\":\"clicks\"},{\"aid\":736515,\"ts\":1661724136868,\"type\":\"clicks\"},{\"aid\":1142000,\"ts\":1661724155248,\"type\":\"clicks\"}]}\n",
            "\n",
            "{\"session\":12899781,\"events\":[{\"aid\":141736,\"ts\":1661724000559,\"type\":\"clicks\"},{\"aid\":199008,\"ts\":1661724022851,\"type\":\"clicks\"},{\"aid\":57315,\"ts\":1661724170835,\"type\":\"clicks\"},{\"aid\":194067,\"ts\":1661724246188,\"type\":\"clicks\"},{\"aid\":199008,\"ts\":1661780623778,\"type\":\"clicks\"},{\"aid\":199008,\"ts\":1661781274081,\"type\":\"clicks\"},{\"aid\":199008,\"ts\":1661781409993,\"type\":\"carts\"},{\"aid\":199008,\"ts\":1661804151788,\"type\":\"clicks\"},{\"aid\":199008,\"ts\":1662060028567,\"type\":\"clicks\"},{\"aid\":199008,\"ts\":1662060064706,\"type\":\"clicks\"},{\"aid\":918667,\"ts\":1662060160406,\"type\":\"clicks\"}]}\n",
            "\n",
            "{\"session\":12899782,\"events\":[{\"aid\":1669402,\"ts\":1661724000568,\"type\":\"clicks\"},{\"aid\":1494780,\"ts\":1661724163530,\"type\":\"clicks\"},{\"aid\":1494780,\"ts\":1661724190624,\"type\":\"clicks\"},{\"aid\":1494780,\"ts\":1661724203140,\"type\":\"clicks\"},{\"aid\":1494780,\"ts\":1661724244341,\"type\":\"carts\"},{\"aid\":1674681,\"ts\":1661724816749,\"type\":\"clicks\"},{\"aid\":602722,\"ts\":1661724885670,\"type\":\"clicks\"},{\"aid\":1596098,\"ts\":1661725306961,\"type\":\"clicks\"},{\"aid\":45034,\"ts\":1661725434870,\"type\":\"clicks\"},{\"aid\":603159,\"ts\":1661725567598,\"type\":\"clicks\"},{\"aid\":413962,\"ts\":1661765601645,\"type\":\"clicks\"},{\"aid\":413962,\"ts\":1661765608861,\"type\":\"carts\"},{\"aid\":413962,\"ts\":1661765683962,\"type\":\"clicks\"},{\"aid\":779477,\"ts\":1661765990636,\"type\":\"clicks\"},{\"aid\":1037537,\"ts\":1661766045371,\"type\":\"clicks\"},{\"aid\":779477,\"ts\":1661766058833,\"type\":\"clicks\"},{\"aid\":779477,\"ts\":1661766162910,\"type\":\"carts\"},{\"aid\":476063,\"ts\":1661766167646,\"type\":\"clicks\"},{\"aid\":562753,\"ts\":1661766178974,\"type\":\"carts\"},{\"aid\":779477,\"ts\":1661766181059,\"type\":\"clicks\"},{\"aid\":562753,\"ts\":1661785953423,\"type\":\"clicks\"},{\"aid\":476063,\"ts\":1661785989572,\"type\":\"carts\"},{\"aid\":779477,\"ts\":1661785991473,\"type\":\"clicks\"},{\"aid\":779477,\"ts\":1661786009326,\"type\":\"carts\"},{\"aid\":562753,\"ts\":1661786014432,\"type\":\"clicks\"},{\"aid\":779477,\"ts\":1661786017266,\"type\":\"clicks\"},{\"aid\":476063,\"ts\":1661786024954,\"type\":\"clicks\"},{\"aid\":975116,\"ts\":1661786059083,\"type\":\"clicks\"},{\"aid\":975116,\"ts\":1661786078505,\"type\":\"carts\"},{\"aid\":595994,\"ts\":1661786240200,\"type\":\"clicks\"},{\"aid\":595994,\"ts\":1661786254403,\"type\":\"carts\"},{\"aid\":595994,\"ts\":1661786284439,\"type\":\"clicks\"},{\"aid\":1299062,\"ts\":1661786321468,\"type\":\"clicks\"},{\"aid\":1352725,\"ts\":1661802752201,\"type\":\"clicks\"},{\"aid\":1344773,\"ts\":1661802822218,\"type\":\"clicks\"},{\"aid\":1344773,\"ts\":1661802836762,\"type\":\"carts\"},{\"aid\":794259,\"ts\":1661802866448,\"type\":\"clicks\"},{\"aid\":363336,\"ts\":1661802911345,\"type\":\"clicks\"},{\"aid\":829180,\"ts\":1661802976266,\"type\":\"clicks\"},{\"aid\":1711180,\"ts\":1661803002384,\"type\":\"carts\"},{\"aid\":127404,\"ts\":1661803019431,\"type\":\"carts\"},{\"aid\":654809,\"ts\":1661803139163,\"type\":\"clicks\"},{\"aid\":723956,\"ts\":1661803162990,\"type\":\"clicks\"},{\"aid\":476063,\"ts\":1661803267739,\"type\":\"clicks\"},{\"aid\":975116,\"ts\":1661803282620,\"type\":\"clicks\"},{\"aid\":406001,\"ts\":1661803489097,\"type\":\"clicks\"},{\"aid\":889671,\"ts\":1661803500037,\"type\":\"clicks\"},{\"aid\":889671,\"ts\":1661803510829,\"type\":\"carts\"},{\"aid\":834354,\"ts\":1661803530264,\"type\":\"clicks\"},{\"aid\":834354,\"ts\":1661803539038,\"type\":\"carts\"},{\"aid\":889671,\"ts\":1661803545858,\"type\":\"clicks\"},{\"aid\":1099390,\"ts\":1661803555960,\"type\":\"clicks\"},{\"aid\":987399,\"ts\":1661803571124,\"type\":\"clicks\"},{\"aid\":987399,\"ts\":1661803578438,\"type\":\"carts\"},{\"aid\":638410,\"ts\":1661803600761,\"type\":\"clicks\"},{\"aid\":1072927,\"ts\":1661803621612,\"type\":\"clicks\"},{\"aid\":530899,\"ts\":1661803640817,\"type\":\"clicks\"},{\"aid\":229748,\"ts\":1661803651343,\"type\":\"clicks\"},{\"aid\":229748,\"ts\":1661803658101,\"type\":\"clicks\"},{\"aid\":740494,\"ts\":1661803681480,\"type\":\"clicks\"},{\"aid\":740494,\"ts\":1661803697626,\"type\":\"carts\"},{\"aid\":834354,\"ts\":1661803710262,\"type\":\"carts\"},{\"aid\":1669402,\"ts\":1661803953178,\"type\":\"orders\"},{\"aid\":829180,\"ts\":1661803953178,\"type\":\"orders\"},{\"aid\":1696036,\"ts\":1661803953178,\"type\":\"orders\"},{\"aid\":479970,\"ts\":1661803953178,\"type\":\"orders\"},{\"aid\":834354,\"ts\":1661803953178,\"type\":\"orders\"},{\"aid\":1033148,\"ts\":1661803953178,\"type\":\"orders\"},{\"aid\":595994,\"ts\":1661803953178,\"type\":\"orders\"},{\"aid\":1007613,\"ts\":1661803953178,\"type\":\"orders\"}]}\n",
            "\n",
            "{\"session\":12899783,\"events\":[{\"aid\":255297,\"ts\":1661724000572,\"type\":\"clicks\"},{\"aid\":1114789,\"ts\":1661724004924,\"type\":\"clicks\"},{\"aid\":255297,\"ts\":1661724010953,\"type\":\"clicks\"},{\"aid\":300127,\"ts\":1661730417845,\"type\":\"clicks\"},{\"aid\":198385,\"ts\":1661730433368,\"type\":\"clicks\"},{\"aid\":300127,\"ts\":1661730438179,\"type\":\"clicks\"},{\"aid\":1729553,\"ts\":1661730496587,\"type\":\"clicks\"},{\"aid\":1216820,\"ts\":1661779640356,\"type\":\"clicks\"},{\"aid\":1754419,\"ts\":1661779655973,\"type\":\"clicks\"},{\"aid\":607638,\"ts\":1661779678936,\"type\":\"clicks\"},{\"aid\":1817895,\"ts\":1662041140398,\"type\":\"clicks\"}]}\n",
            "\n",
            "{\"session\":12899784,\"events\":[{\"aid\":1036375,\"ts\":1661724000604,\"type\":\"clicks\"},{\"aid\":1269952,\"ts\":1662005227869,\"type\":\"clicks\"},{\"aid\":476216,\"ts\":1662005264482,\"type\":\"clicks\"},{\"aid\":1579935,\"ts\":1662005292756,\"type\":\"clicks\"},{\"aid\":1546830,\"ts\":1662005317295,\"type\":\"clicks\"},{\"aid\":22981,\"ts\":1662005336596,\"type\":\"clicks\"},{\"aid\":1190477,\"ts\":1662005518930,\"type\":\"clicks\"}]}\n",
            "\n",
            "{\"session\":12899785,\"events\":[{\"aid\":1784451,\"ts\":1661724000809,\"type\":\"clicks\"},{\"aid\":1169631,\"ts\":1661724026526,\"type\":\"clicks\"},{\"aid\":95259,\"ts\":1661724136440,\"type\":\"clicks\"},{\"aid\":970225,\"ts\":1661724209327,\"type\":\"clicks\"},{\"aid\":95259,\"ts\":1661724358280,\"type\":\"clicks\"},{\"aid\":608210,\"ts\":1661724398796,\"type\":\"clicks\"},{\"aid\":95259,\"ts\":1661724432230,\"type\":\"clicks\"},{\"aid\":1308865,\"ts\":1661724435515,\"type\":\"clicks\"},{\"aid\":179800,\"ts\":1661724460296,\"type\":\"clicks\"},{\"aid\":383003,\"ts\":1661724507284,\"type\":\"clicks\"},{\"aid\":1444536,\"ts\":1661724547690,\"type\":\"clicks\"},{\"aid\":1254866,\"ts\":1661724569038,\"type\":\"clicks\"},{\"aid\":453905,\"ts\":1661724597973,\"type\":\"clicks\"},{\"aid\":775584,\"ts\":1661724617822,\"type\":\"clicks\"},{\"aid\":1154962,\"ts\":1661724716009,\"type\":\"clicks\"},{\"aid\":453905,\"ts\":1661724768432,\"type\":\"clicks\"},{\"aid\":544238,\"ts\":1661724809109,\"type\":\"clicks\"},{\"aid\":453905,\"ts\":1661724816323,\"type\":\"clicks\"},{\"aid\":383003,\"ts\":1661724865500,\"type\":\"clicks\"},{\"aid\":453905,\"ts\":1661724872640,\"type\":\"clicks\"},{\"aid\":903397,\"ts\":1661724953803,\"type\":\"clicks\"},{\"aid\":453905,\"ts\":1661724957448,\"type\":\"clicks\"},{\"aid\":383003,\"ts\":1661724979978,\"type\":\"clicks\"},{\"aid\":41655,\"ts\":1661725068342,\"type\":\"clicks\"},{\"aid\":383003,\"ts\":1661725107728,\"type\":\"clicks\"},{\"aid\":51772,\"ts\":1661725279667,\"type\":\"clicks\"},{\"aid\":775584,\"ts\":1661725299470,\"type\":\"clicks\"},{\"aid\":587969,\"ts\":1661725355396,\"type\":\"clicks\"},{\"aid\":160666,\"ts\":1661726057554,\"type\":\"clicks\"},{\"aid\":587969,\"ts\":1661726065218,\"type\":\"clicks\"},{\"aid\":41655,\"ts\":1661726074001,\"type\":\"clicks\"},{\"aid\":587969,\"ts\":1661726092597,\"type\":\"clicks\"},{\"aid\":775584,\"ts\":1661726105410,\"type\":\"clicks\"},{\"aid\":775584,\"ts\":1661726154058,\"type\":\"clicks\"},{\"aid\":453905,\"ts\":1661726177913,\"type\":\"clicks\"},{\"aid\":41655,\"ts\":1661726201238,\"type\":\"clicks\"},{\"aid\":1154962,\"ts\":1661726300264,\"type\":\"clicks\"},{\"aid\":1259418,\"ts\":1661726445580,\"type\":\"clicks\"},{\"aid\":552698,\"ts\":1661726543075,\"type\":\"clicks\"},{\"aid\":543919,\"ts\":1661726580958,\"type\":\"clicks\"},{\"aid\":1071379,\"ts\":1661726651588,\"type\":\"clicks\"},{\"aid\":543919,\"ts\":1661726656473,\"type\":\"clicks\"},{\"aid\":453905,\"ts\":1661726759625,\"type\":\"clicks\"},{\"aid\":41655,\"ts\":1661726781707,\"type\":\"clicks\"},{\"aid\":258458,\"ts\":1661726808454,\"type\":\"clicks\"},{\"aid\":1553332,\"ts\":1661726831207,\"type\":\"clicks\"},{\"aid\":874493,\"ts\":1661726940871,\"type\":\"clicks\"},{\"aid\":258458,\"ts\":1661726945601,\"type\":\"clicks\"},{\"aid\":258458,\"ts\":1661726955846,\"type\":\"clicks\"},{\"aid\":1433061,\"ts\":1661726963856,\"type\":\"clicks\"},{\"aid\":258458,\"ts\":1661726976507,\"type\":\"clicks\"},{\"aid\":10851,\"ts\":1661726994823,\"type\":\"clicks\"},{\"aid\":1784451,\"ts\":1661727100591,\"type\":\"clicks\"},{\"aid\":1169631,\"ts\":1661727130632,\"type\":\"clicks\"},{\"aid\":656708,\"ts\":1661727249493,\"type\":\"clicks\"},{\"aid\":1308865,\"ts\":1661727290470,\"type\":\"clicks\"},{\"aid\":1308865,\"ts\":1661727316989,\"type\":\"clicks\"},{\"aid\":1497876,\"ts\":1661732680586,\"type\":\"clicks\"},{\"aid\":1784451,\"ts\":1661732711713,\"type\":\"clicks\"},{\"aid\":775584,\"ts\":1661732809477,\"type\":\"clicks\"},{\"aid\":1008570,\"ts\":1661732846469,\"type\":\"clicks\"},{\"aid\":219032,\"ts\":1661732928381,\"type\":\"clicks\"},{\"aid\":41655,\"ts\":1661732957592,\"type\":\"clicks\"},{\"aid\":1397811,\"ts\":1661733007746,\"type\":\"clicks\"},{\"aid\":453905,\"ts\":1661733114215,\"type\":\"clicks\"},{\"aid\":258458,\"ts\":1661733198099,\"type\":\"clicks\"},{\"aid\":453905,\"ts\":1661733243961,\"type\":\"clicks\"},{\"aid\":258458,\"ts\":1661733258176,\"type\":\"clicks\"},{\"aid\":253080,\"ts\":1661760579927,\"type\":\"clicks\"},{\"aid\":874493,\"ts\":1661760607631,\"type\":\"clicks\"},{\"aid\":253080,\"ts\":1661760613993,\"type\":\"clicks\"},{\"aid\":1497876,\"ts\":1661760629730,\"type\":\"clicks\"},{\"aid\":453905,\"ts\":1661760665884,\"type\":\"clicks\"},{\"aid\":1497876,\"ts\":1661760679400,\"type\":\"clicks\"},{\"aid\":1179870,\"ts\":1661760693309,\"type\":\"clicks\"},{\"aid\":1497876,\"ts\":1661760703614,\"type\":\"clicks\"},{\"aid\":253080,\"ts\":1661760710834,\"type\":\"clicks\"},{\"aid\":41655,\"ts\":1661760740094,\"type\":\"clicks\"},{\"aid\":614626,\"ts\":1661760809064,\"type\":\"clicks\"},{\"aid\":804799,\"ts\":1661760864790,\"type\":\"clicks\"},{\"aid\":614626,\"ts\":1661760885598,\"type\":\"clicks\"},{\"aid\":41655,\"ts\":1661760889394,\"type\":\"clicks\"},{\"aid\":453905,\"ts\":1661760919371,\"type\":\"clicks\"},{\"aid\":41655,\"ts\":1661760959937,\"type\":\"clicks\"},{\"aid\":258458,\"ts\":1661760979339,\"type\":\"clicks\"},{\"aid\":1433061,\"ts\":1661761001911,\"type\":\"clicks\"},{\"aid\":258458,\"ts\":1661761012201,\"type\":\"clicks\"},{\"aid\":160666,\"ts\":1661761026293,\"type\":\"clicks\"},{\"aid\":41655,\"ts\":1661761039932,\"type\":\"clicks\"},{\"aid\":160666,\"ts\":1661761062319,\"type\":\"clicks\"},{\"aid\":258458,\"ts\":1661761065711,\"type\":\"clicks\"},{\"aid\":383003,\"ts\":1661761082905,\"type\":\"clicks\"},{\"aid\":258458,\"ts\":1661761087173,\"type\":\"clicks\"},{\"aid\":1497876,\"ts\":1661761106839,\"type\":\"clicks\"},{\"aid\":775584,\"ts\":1661761145481,\"type\":\"clicks\"},{\"aid\":453905,\"ts\":1661761186665,\"type\":\"clicks\"},{\"aid\":775584,\"ts\":1661761200649,\"type\":\"clicks\"},{\"aid\":453905,\"ts\":1661761243886,\"type\":\"clicks\"},{\"aid\":775584,\"ts\":1661761259710,\"type\":\"clicks\"},{\"aid\":1179870,\"ts\":1661761290748,\"type\":\"clicks\"},{\"aid\":775584,\"ts\":1661761308012,\"type\":\"clicks\"},{\"aid\":1497876,\"ts\":1661761310542,\"type\":\"clicks\"}]}\n",
            "\n",
            "{\"session\":12899786,\"events\":[{\"aid\":955252,\"ts\":1661724001174,\"type\":\"clicks\"},{\"aid\":955252,\"ts\":1661724017764,\"type\":\"carts\"}]}\n",
            "\n",
            "{\"session\":12899787,\"events\":[{\"aid\":1682750,\"ts\":1661724001617,\"type\":\"clicks\"},{\"aid\":1682750,\"ts\":1661724025329,\"type\":\"carts\"},{\"aid\":1682750,\"ts\":1661724029598,\"type\":\"carts\"},{\"aid\":1682750,\"ts\":1661724042424,\"type\":\"carts\"},{\"aid\":1024433,\"ts\":1661724195533,\"type\":\"clicks\"}]}\n",
            "\n",
            "{\"session\":12899788,\"events\":[{\"aid\":245131,\"ts\":1661724001619,\"type\":\"clicks\"},{\"aid\":39846,\"ts\":1661724018620,\"type\":\"clicks\"},{\"aid\":1259911,\"ts\":1661724034826,\"type\":\"clicks\"},{\"aid\":1663048,\"ts\":1661724078816,\"type\":\"clicks\"}]}\n",
            "\n",
            "CPU times: user 2.38 ms, sys: 0 ns, total: 2.38 ms\n",
            "Wall time: 4.41 ms\n"
          ]
        }
      ],
      "source": [
        "%%time\n",
        "with open('test.jsonl') as f:\n",
        "  out = []\n",
        "  i=0\n",
        "  while i<10:\n",
        "    out.append(f.readline())\n",
        "    print(out[-1])\n",
        "    i+=1"
      ]
    },
    {
      "cell_type": "code",
      "execution_count": null,
      "metadata": {
        "colab": {
          "base_uri": "https://localhost:8080/",
          "height": 35
        },
        "id": "5C8LQJuYKeuO",
        "outputId": "675cb375-1072-4c0b-a246-e00638c9b69a"
      },
      "outputs": [
        {
          "data": {
            "application/vnd.google.colaboratory.intrinsic+json": {
              "type": "string"
            },
            "text/plain": [
              "'{\"session\":12899779,\"events\":[{\"aid\":59625,\"ts\":1661724000278,\"type\":\"clicks\"}]}\\n'"
            ]
          },
          "execution_count": 11,
          "metadata": {},
          "output_type": "execute_result"
        }
      ],
      "source": [
        "out[0]"
      ]
    },
    {
      "cell_type": "markdown",
      "metadata": {
        "id": "P-V7tk4RD-7s"
      },
      "source": [
        "### how many data points ?\n",
        "\n",
        "    test size :  1671803  --> 14.44%\n",
        "    train size :  9901335 --> 85.55%\n"
      ]
    },
    {
      "cell_type": "code",
      "execution_count": null,
      "metadata": {
        "colab": {
          "base_uri": "https://localhost:8080/"
        },
        "id": "ECJjGv2hF38y",
        "outputId": "fb7b282d-d706-46ad-e1aa-00c6285872e8"
      },
      "outputs": [
        {
          "data": {
            "text/plain": [
              "0.855544537704467"
            ]
          },
          "execution_count": 28,
          "metadata": {},
          "output_type": "execute_result"
        }
      ],
      "source": [
        "9901335/(1671803+9901335)"
      ]
    },
    {
      "cell_type": "code",
      "execution_count": null,
      "metadata": {
        "colab": {
          "base_uri": "https://localhost:8080/"
        },
        "id": "c6ymG87EB3N-",
        "outputId": "e229a5f5-37d3-4bc3-ecf3-33c7cba9d1ca"
      },
      "outputs": [
        {
          "name": "stdout",
          "output_type": "stream",
          "text": [
            "test size :  1671803\n",
            "CPU times: user 738 ms, sys: 217 ms, total: 955 ms\n",
            "Wall time: 2.06 s\n"
          ]
        }
      ],
      "source": [
        "%%time\n",
        "with open('test.jsonl') as f:\n",
        "  i = 0\n",
        "  for line in f:\n",
        "    i+=1\n",
        "print('test size : ', i)"
      ]
    },
    {
      "cell_type": "code",
      "execution_count": null,
      "metadata": {
        "colab": {
          "base_uri": "https://localhost:8080/"
        },
        "id": "VFToLPzpCpV3",
        "outputId": "90c90880-41ec-47e0-98e3-53c2b6539d03"
      },
      "outputs": [
        {
          "name": "stdout",
          "output_type": "stream",
          "text": [
            "train size :  9901335\n",
            "CPU times: user 9.9 s, sys: 5.46 s, total: 15.4 s\n",
            "Wall time: 39.9 s\n"
          ]
        }
      ],
      "source": [
        "%%time\n",
        "with open('train.jsonl') as f:\n",
        "  i = 0\n",
        "  for line in f:\n",
        "    i+=1\n",
        "\n",
        "print('train size : ',i)"
      ]
    },
    {
      "cell_type": "markdown",
      "metadata": {
        "id": "pMZWFbCsEGzx"
      },
      "source": [
        "### how many types of events ?\n",
        "\n",
        "    test : {'clicks': 6292632, 'carts': 570011, 'orders': 65480}\n",
        "    train : {'clicks': 170383809, 'carts': 14635736, 'orders': 4397389}\n",
        "\n",
        "    test : {'clicks': 100%, 'carts': 9.058%, 'orders': 11.487%}\n",
        "    train : {'clicks': 100%, 'carts': 8.589%, 'orders': 30.045%}\n",
        "\n",
        "    "
      ]
    },
    {
      "cell_type": "code",
      "execution_count": null,
      "metadata": {
        "colab": {
          "base_uri": "https://localhost:8080/",
          "height": 142
        },
        "id": "8yacsMkpFznZ",
        "outputId": "e61fa8d1-53c6-4f93-af9b-a8a6071cf607"
      },
      "outputs": [
        {
          "data": {
            "application/vnd.google.colaboratory.intrinsic+json": {
              "type": "string"
            },
            "text/plain": [
              "'{\"session\":12899782,\"events\":[{\"aid\":1669402,\"ts\":1661724000568,\"type\":\"clicks\"},{\"aid\":1494780,\"ts\":1661724163530,\"type\":\"clicks\"},{\"aid\":1494780,\"ts\":1661724190624,\"type\":\"clicks\"},{\"aid\":1494780,\"ts\":1661724203140,\"type\":\"clicks\"},{\"aid\":1494780,\"ts\":1661724244341,\"type\":\"carts\"},{\"aid\":1674681,\"ts\":1661724816749,\"type\":\"clicks\"},{\"aid\":602722,\"ts\":1661724885670,\"type\":\"clicks\"},{\"aid\":1596098,\"ts\":1661725306961,\"type\":\"clicks\"},{\"aid\":45034,\"ts\":1661725434870,\"type\":\"clicks\"},{\"aid\":603159,\"ts\":1661725567598,\"type\":\"clicks\"},{\"aid\":413962,\"ts\":1661765601645,\"type\":\"clicks\"},{\"aid\":413962,\"ts\":1661765608861,\"type\":\"carts\"},{\"aid\":413962,\"ts\":1661765683962,\"type\":\"clicks\"},{\"aid\":779477,\"ts\":1661765990636,\"type\":\"clicks\"},{\"aid\":1037537,\"ts\":1661766045371,\"type\":\"clicks\"},{\"aid\":779477,\"ts\":1661766058833,\"type\":\"clicks\"},{\"aid\":779477,\"ts\":1661766162910,\"type\":\"carts\"},{\"aid\":476063,\"ts\":1661766167646,\"type\":\"clicks\"},{\"aid\":562753,\"ts\":1661766178974,\"type\":\"carts\"},{\"aid\":779477,\"ts\":1661766181059,\"type\":\"clicks\"},{\"aid\":562753,\"ts\":1661785953423,\"type\":\"clicks\"},{\"aid\":476063,\"ts\":1661785989572,\"type\":\"carts\"},{\"aid\":779477,\"ts\":1661785991473,\"type\":\"clicks\"},{\"aid\":779477,\"ts\":1661786009326,\"type\":\"carts\"},{\"aid\":562753,\"ts\":1661786014432,\"type\":\"clicks\"},{\"aid\":779477,\"ts\":1661786017266,\"type\":\"clicks\"},{\"aid\":476063,\"ts\":1661786024954,\"type\":\"clicks\"},{\"aid\":975116,\"ts\":1661786059083,\"type\":\"clicks\"},{\"aid\":975116,\"ts\":1661786078505,\"type\":\"carts\"},{\"aid\":595994,\"ts\":1661786240200,\"type\":\"clicks\"},{\"aid\":595994,\"ts\":1661786254403,\"type\":\"carts\"},{\"aid\":595994,\"ts\":1661786284439,\"type\":\"clicks\"},{\"aid\":1299062,\"ts\":1661786321468,\"type\":\"clicks\"},{\"aid\":1352725,\"ts\":1661802752201,\"type\":\"clicks\"},{\"aid\":1344773,\"ts\":1661802822218,\"type\":\"clicks\"},{\"aid\":1344773,\"ts\":1661802836762,\"type\":\"carts\"},{\"aid\":794259,\"ts\":1661802866448,\"type\":\"clicks\"},{\"aid\":363336,\"ts\":1661802911345,\"type\":\"clicks\"},{\"aid\":829180,\"ts\":1661802976266,\"type\":\"clicks\"},{\"aid\":1711180,\"ts\":1661803002384,\"type\":\"carts\"},{\"aid\":127404,\"ts\":1661803019431,\"type\":\"carts\"},{\"aid\":654809,\"ts\":1661803139163,\"type\":\"clicks\"},{\"aid\":723956,\"ts\":1661803162990,\"type\":\"clicks\"},{\"aid\":476063,\"ts\":1661803267739,\"type\":\"clicks\"},{\"aid\":975116,\"ts\":1661803282620,\"type\":\"clicks\"},{\"aid\":406001,\"ts\":1661803489097,\"type\":\"clicks\"},{\"aid\":889671,\"ts\":1661803500037,\"type\":\"clicks\"},{\"aid\":889671,\"ts\":1661803510829,\"type\":\"carts\"},{\"aid\":834354,\"ts\":1661803530264,\"type\":\"clicks\"},{\"aid\":834354,\"ts\":1661803539038,\"type\":\"carts\"},{\"aid\":889671,\"ts\":1661803545858,\"type\":\"clicks\"},{\"aid\":1099390,\"ts\":1661803555960,\"type\":\"clicks\"},{\"aid\":987399,\"ts\":1661803571124,\"type\":\"clicks\"},{\"aid\":987399,\"ts\":1661803578438,\"type\":\"carts\"},{\"aid\":638410,\"ts\":1661803600761,\"type\":\"clicks\"},{\"aid\":1072927,\"ts\":1661803621612,\"type\":\"clicks\"},{\"aid\":530899,\"ts\":1661803640817,\"type\":\"clicks\"},{\"aid\":229748,\"ts\":1661803651343,\"type\":\"clicks\"},{\"aid\":229748,\"ts\":1661803658101,\"type\":\"clicks\"},{\"aid\":740494,\"ts\":1661803681480,\"type\":\"clicks\"},{\"aid\":740494,\"ts\":1661803697626,\"type\":\"carts\"},{\"aid\":834354,\"ts\":1661803710262,\"type\":\"carts\"},{\"aid\":1669402,\"ts\":1661803953178,\"type\":\"orders\"},{\"aid\":829180,\"ts\":1661803953178,\"type\":\"orders\"},{\"aid\":1696036,\"ts\":1661803953178,\"type\":\"orders\"},{\"aid\":479970,\"ts\":1661803953178,\"type\":\"orders\"},{\"aid\":834354,\"ts\":1661803953178,\"type\":\"orders\"},{\"aid\":1033148,\"ts\":1661803953178,\"type\":\"orders\"},{\"aid\":595994,\"ts\":1661803953178,\"type\":\"orders\"},{\"aid\":1007613,\"ts\":1661803953178,\"type\":\"orders\"}]}\\n'"
            ]
          },
          "execution_count": 41,
          "metadata": {},
          "output_type": "execute_result"
        }
      ],
      "source": [
        "out[3]"
      ]
    },
    {
      "cell_type": "code",
      "execution_count": null,
      "metadata": {
        "colab": {
          "base_uri": "https://localhost:8080/"
        },
        "id": "SU4YC46uGSHR",
        "outputId": "a3da84ea-cd82-46d4-d751-5391f4c415da"
      },
      "outputs": [
        {
          "name": "stdout",
          "output_type": "stream",
          "text": [
            "\"type\":\"clicks\"\n",
            "\"type\":\"clicks\"\n",
            "\"type\":\"clicks\"\n",
            "\"type\":\"clicks\"\n",
            "\"type\":\"clicks\"\n"
          ]
        }
      ],
      "source": [
        "pattern = re.compile(r'\"type\":\".*?\"')\n",
        "print(*re.findall(pattern, out[1]), sep = '\\n')"
      ]
    },
    {
      "cell_type": "code",
      "execution_count": null,
      "metadata": {
        "colab": {
          "base_uri": "https://localhost:8080/"
        },
        "id": "9-KhT-eEERl8",
        "outputId": "0d632526-84aa-4757-e5ea-61e37f577090"
      },
      "outputs": [
        {
          "name": "stdout",
          "output_type": "stream",
          "text": [
            "{'clicks': 6292632, 'carts': 570011, 'orders': 65480}\n",
            "CPU times: user 10.3 s, sys: 341 ms, total: 10.6 s\n",
            "Wall time: 11.7 s\n"
          ]
        }
      ],
      "source": [
        "%%time\n",
        "with open('test.jsonl') as f:\n",
        "  types = {}\n",
        "  pattern = re.compile(r'\"type\":\".*?\"')\n",
        "  for line in f:\n",
        "    for i in re.findall(pattern, line):\n",
        "      this_type = i.split(':')[1].strip('\"')\n",
        "      if this_type in types:\n",
        "        types[this_type] += 1\n",
        "      else:\n",
        "        types[this_type] = 1\n",
        "print(types)"
      ]
    },
    {
      "cell_type": "code",
      "execution_count": null,
      "metadata": {
        "colab": {
          "base_uri": "https://localhost:8080/"
        },
        "id": "GV75QZ5SFnLC",
        "outputId": "727c37a9-126b-4727-b8b7-983643241ab7"
      },
      "outputs": [
        {
          "name": "stdout",
          "output_type": "stream",
          "text": [
            "{'clicks': 170383809, 'carts': 14635736, 'orders': 4397389}\n",
            "CPU times: user 3min 23s, sys: 11.2 s, total: 3min 34s\n",
            "Wall time: 3min 39s\n"
          ]
        }
      ],
      "source": [
        "%%time\n",
        "with open('train.jsonl') as f:\n",
        "  types = {}\n",
        "  pattern = re.compile(r'\"type\":\".*?\"')\n",
        "  for line in f:\n",
        "    for i in re.findall(pattern, line):\n",
        "      this_type = i.split(':')[1].strip('\"')\n",
        "      if this_type in types:\n",
        "        types[this_type] += 1\n",
        "      else:\n",
        "        types[this_type] = 1\n",
        "print(types)"
      ]
    },
    {
      "cell_type": "markdown",
      "metadata": {
        "id": "8Ho0q9gVAZmz"
      },
      "source": [
        "### how many clicks, carts, orders for each session ?"
      ]
    },
    {
      "cell_type": "code",
      "execution_count": null,
      "metadata": {
        "colab": {
          "base_uri": "https://localhost:8080/",
          "height": 35
        },
        "id": "MZdSrC_3BrWE",
        "outputId": "0d73444d-cc8c-4f94-df2f-7f0a95715424"
      },
      "outputs": [
        {
          "data": {
            "application/vnd.google.colaboratory.intrinsic+json": {
              "type": "string"
            },
            "text/plain": [
              "'12899782'"
            ]
          },
          "execution_count": 18,
          "metadata": {},
          "output_type": "execute_result"
        }
      ],
      "source": [
        "re.findall(r'\"session\":.*?,', out[3])[0].split(':')[1].rstrip(',')"
      ]
    },
    {
      "cell_type": "code",
      "execution_count": null,
      "metadata": {
        "colab": {
          "base_uri": "https://localhost:8080/",
          "height": 260
        },
        "id": "j5_x9LusAs3l",
        "outputId": "ddb6cd91-c296-4923-9801-49b65b95671a"
      },
      "outputs": [
        {
          "name": "stdout",
          "output_type": "stream",
          "text": [
            "(1671803, 4)\n",
            "CPU times: user 14.2 s, sys: 549 ms, total: 14.7 s\n",
            "Wall time: 15 s\n"
          ]
        },
        {
          "data": {
            "text/html": [
              "\n",
              "  <div id=\"df-e01b6019-26a3-4ed7-9146-654d1d86e9a7\">\n",
              "    <div class=\"colab-df-container\">\n",
              "      <div>\n",
              "<style scoped>\n",
              "    .dataframe tbody tr th:only-of-type {\n",
              "        vertical-align: middle;\n",
              "    }\n",
              "\n",
              "    .dataframe tbody tr th {\n",
              "        vertical-align: top;\n",
              "    }\n",
              "\n",
              "    .dataframe thead th {\n",
              "        text-align: right;\n",
              "    }\n",
              "</style>\n",
              "<table border=\"1\" class=\"dataframe\">\n",
              "  <thead>\n",
              "    <tr style=\"text-align: right;\">\n",
              "      <th></th>\n",
              "      <th>session</th>\n",
              "      <th>clicks</th>\n",
              "      <th>carts</th>\n",
              "      <th>orders</th>\n",
              "    </tr>\n",
              "  </thead>\n",
              "  <tbody>\n",
              "    <tr>\n",
              "      <th>0</th>\n",
              "      <td>12899779</td>\n",
              "      <td>1</td>\n",
              "      <td>0</td>\n",
              "      <td>0</td>\n",
              "    </tr>\n",
              "    <tr>\n",
              "      <th>1</th>\n",
              "      <td>12899780</td>\n",
              "      <td>5</td>\n",
              "      <td>0</td>\n",
              "      <td>0</td>\n",
              "    </tr>\n",
              "    <tr>\n",
              "      <th>2</th>\n",
              "      <td>12899781</td>\n",
              "      <td>10</td>\n",
              "      <td>1</td>\n",
              "      <td>0</td>\n",
              "    </tr>\n",
              "    <tr>\n",
              "      <th>3</th>\n",
              "      <td>12899782</td>\n",
              "      <td>46</td>\n",
              "      <td>16</td>\n",
              "      <td>8</td>\n",
              "    </tr>\n",
              "    <tr>\n",
              "      <th>4</th>\n",
              "      <td>12899783</td>\n",
              "      <td>11</td>\n",
              "      <td>0</td>\n",
              "      <td>0</td>\n",
              "    </tr>\n",
              "  </tbody>\n",
              "</table>\n",
              "</div>\n",
              "      <button class=\"colab-df-convert\" onclick=\"convertToInteractive('df-e01b6019-26a3-4ed7-9146-654d1d86e9a7')\"\n",
              "              title=\"Convert this dataframe to an interactive table.\"\n",
              "              style=\"display:none;\">\n",
              "        \n",
              "  <svg xmlns=\"http://www.w3.org/2000/svg\" height=\"24px\"viewBox=\"0 0 24 24\"\n",
              "       width=\"24px\">\n",
              "    <path d=\"M0 0h24v24H0V0z\" fill=\"none\"/>\n",
              "    <path d=\"M18.56 5.44l.94 2.06.94-2.06 2.06-.94-2.06-.94-.94-2.06-.94 2.06-2.06.94zm-11 1L8.5 8.5l.94-2.06 2.06-.94-2.06-.94L8.5 2.5l-.94 2.06-2.06.94zm10 10l.94 2.06.94-2.06 2.06-.94-2.06-.94-.94-2.06-.94 2.06-2.06.94z\"/><path d=\"M17.41 7.96l-1.37-1.37c-.4-.4-.92-.59-1.43-.59-.52 0-1.04.2-1.43.59L10.3 9.45l-7.72 7.72c-.78.78-.78 2.05 0 2.83L4 21.41c.39.39.9.59 1.41.59.51 0 1.02-.2 1.41-.59l7.78-7.78 2.81-2.81c.8-.78.8-2.07 0-2.86zM5.41 20L4 18.59l7.72-7.72 1.47 1.35L5.41 20z\"/>\n",
              "  </svg>\n",
              "      </button>\n",
              "      \n",
              "  <style>\n",
              "    .colab-df-container {\n",
              "      display:flex;\n",
              "      flex-wrap:wrap;\n",
              "      gap: 12px;\n",
              "    }\n",
              "\n",
              "    .colab-df-convert {\n",
              "      background-color: #E8F0FE;\n",
              "      border: none;\n",
              "      border-radius: 50%;\n",
              "      cursor: pointer;\n",
              "      display: none;\n",
              "      fill: #1967D2;\n",
              "      height: 32px;\n",
              "      padding: 0 0 0 0;\n",
              "      width: 32px;\n",
              "    }\n",
              "\n",
              "    .colab-df-convert:hover {\n",
              "      background-color: #E2EBFA;\n",
              "      box-shadow: 0px 1px 2px rgba(60, 64, 67, 0.3), 0px 1px 3px 1px rgba(60, 64, 67, 0.15);\n",
              "      fill: #174EA6;\n",
              "    }\n",
              "\n",
              "    [theme=dark] .colab-df-convert {\n",
              "      background-color: #3B4455;\n",
              "      fill: #D2E3FC;\n",
              "    }\n",
              "\n",
              "    [theme=dark] .colab-df-convert:hover {\n",
              "      background-color: #434B5C;\n",
              "      box-shadow: 0px 1px 3px 1px rgba(0, 0, 0, 0.15);\n",
              "      filter: drop-shadow(0px 1px 2px rgba(0, 0, 0, 0.3));\n",
              "      fill: #FFFFFF;\n",
              "    }\n",
              "  </style>\n",
              "\n",
              "      <script>\n",
              "        const buttonEl =\n",
              "          document.querySelector('#df-e01b6019-26a3-4ed7-9146-654d1d86e9a7 button.colab-df-convert');\n",
              "        buttonEl.style.display =\n",
              "          google.colab.kernel.accessAllowed ? 'block' : 'none';\n",
              "\n",
              "        async function convertToInteractive(key) {\n",
              "          const element = document.querySelector('#df-e01b6019-26a3-4ed7-9146-654d1d86e9a7');\n",
              "          const dataTable =\n",
              "            await google.colab.kernel.invokeFunction('convertToInteractive',\n",
              "                                                     [key], {});\n",
              "          if (!dataTable) return;\n",
              "\n",
              "          const docLinkHtml = 'Like what you see? Visit the ' +\n",
              "            '<a target=\"_blank\" href=https://colab.research.google.com/notebooks/data_table.ipynb>data table notebook</a>'\n",
              "            + ' to learn more about interactive tables.';\n",
              "          element.innerHTML = '';\n",
              "          dataTable['output_type'] = 'display_data';\n",
              "          await google.colab.output.renderOutput(dataTable, element);\n",
              "          const docLink = document.createElement('div');\n",
              "          docLink.innerHTML = docLinkHtml;\n",
              "          element.appendChild(docLink);\n",
              "        }\n",
              "      </script>\n",
              "    </div>\n",
              "  </div>\n",
              "  "
            ],
            "text/plain": [
              "    session  clicks  carts  orders\n",
              "0  12899779       1      0       0\n",
              "1  12899780       5      0       0\n",
              "2  12899781      10      1       0\n",
              "3  12899782      46     16       8\n",
              "4  12899783      11      0       0"
            ]
          },
          "execution_count": 7,
          "metadata": {},
          "output_type": "execute_result"
        }
      ],
      "source": [
        "%%time\n",
        "with open('test.jsonl') as f:\n",
        "  sessions = []\n",
        "  clicks = []\n",
        "  carts = []\n",
        "  orders = []\n",
        "  \n",
        "  pattern = re.compile(r'\"type\":\".*?\"')\n",
        "  pattern2 = re.compile(r'\"session\":.*?,')\n",
        "\n",
        "  for line in f:\n",
        "    session = re.findall(pattern2, line)[0].split(':')[1].rstrip(',')\n",
        "    num_clicks = 0\n",
        "    num_carts = 0\n",
        "    num_orders = 0\n",
        "\n",
        "    for i in re.findall(pattern, line):\n",
        "      this_type = i.split(':')[1].strip('\"')\n",
        "      if this_type=='clicks':\n",
        "        num_clicks += 1\n",
        "      elif this_type=='carts':\n",
        "        num_carts += 1\n",
        "      elif this_type=='orders':\n",
        "        num_orders += 1\n",
        "      else:\n",
        "        raise ValueError\n",
        "\n",
        "    sessions.append(session)\n",
        "    clicks.append(num_clicks)\n",
        "    carts.append(num_carts)\n",
        "    orders.append(num_orders)\n",
        "\n",
        "df_test_frequency = pd.DataFrame()\n",
        "df_test_frequency['session'] = sessions\n",
        "df_test_frequency['clicks'] = clicks\n",
        "df_test_frequency['carts'] = carts\n",
        "df_test_frequency['orders'] = orders\n",
        "\n",
        "print(df_test_frequency.shape)\n",
        "df_test_frequency.head()"
      ]
    },
    {
      "cell_type": "code",
      "execution_count": null,
      "metadata": {
        "colab": {
          "base_uri": "https://localhost:8080/",
          "height": 260
        },
        "id": "peEQ_FVuEh7E",
        "outputId": "712bbbdb-f961-45f1-e35b-07e56567006b"
      },
      "outputs": [
        {
          "name": "stdout",
          "output_type": "stream",
          "text": [
            "(12899779, 4)\n",
            "CPU times: user 4min 12s, sys: 9.96 s, total: 4min 22s\n",
            "Wall time: 4min 28s\n"
          ]
        },
        {
          "data": {
            "text/html": [
              "\n",
              "  <div id=\"df-1dc8d2c1-53fd-45f2-96a3-9baf973f8e6f\">\n",
              "    <div class=\"colab-df-container\">\n",
              "      <div>\n",
              "<style scoped>\n",
              "    .dataframe tbody tr th:only-of-type {\n",
              "        vertical-align: middle;\n",
              "    }\n",
              "\n",
              "    .dataframe tbody tr th {\n",
              "        vertical-align: top;\n",
              "    }\n",
              "\n",
              "    .dataframe thead th {\n",
              "        text-align: right;\n",
              "    }\n",
              "</style>\n",
              "<table border=\"1\" class=\"dataframe\">\n",
              "  <thead>\n",
              "    <tr style=\"text-align: right;\">\n",
              "      <th></th>\n",
              "      <th>session</th>\n",
              "      <th>clicks</th>\n",
              "      <th>carts</th>\n",
              "      <th>orders</th>\n",
              "    </tr>\n",
              "  </thead>\n",
              "  <tbody>\n",
              "    <tr>\n",
              "      <th>0</th>\n",
              "      <td>0</td>\n",
              "      <td>255</td>\n",
              "      <td>17</td>\n",
              "      <td>4</td>\n",
              "    </tr>\n",
              "    <tr>\n",
              "      <th>1</th>\n",
              "      <td>1</td>\n",
              "      <td>24</td>\n",
              "      <td>8</td>\n",
              "      <td>0</td>\n",
              "    </tr>\n",
              "    <tr>\n",
              "      <th>2</th>\n",
              "      <td>2</td>\n",
              "      <td>32</td>\n",
              "      <td>1</td>\n",
              "      <td>0</td>\n",
              "    </tr>\n",
              "    <tr>\n",
              "      <th>3</th>\n",
              "      <td>3</td>\n",
              "      <td>200</td>\n",
              "      <td>21</td>\n",
              "      <td>5</td>\n",
              "    </tr>\n",
              "    <tr>\n",
              "      <th>4</th>\n",
              "      <td>4</td>\n",
              "      <td>15</td>\n",
              "      <td>3</td>\n",
              "      <td>1</td>\n",
              "    </tr>\n",
              "  </tbody>\n",
              "</table>\n",
              "</div>\n",
              "      <button class=\"colab-df-convert\" onclick=\"convertToInteractive('df-1dc8d2c1-53fd-45f2-96a3-9baf973f8e6f')\"\n",
              "              title=\"Convert this dataframe to an interactive table.\"\n",
              "              style=\"display:none;\">\n",
              "        \n",
              "  <svg xmlns=\"http://www.w3.org/2000/svg\" height=\"24px\"viewBox=\"0 0 24 24\"\n",
              "       width=\"24px\">\n",
              "    <path d=\"M0 0h24v24H0V0z\" fill=\"none\"/>\n",
              "    <path d=\"M18.56 5.44l.94 2.06.94-2.06 2.06-.94-2.06-.94-.94-2.06-.94 2.06-2.06.94zm-11 1L8.5 8.5l.94-2.06 2.06-.94-2.06-.94L8.5 2.5l-.94 2.06-2.06.94zm10 10l.94 2.06.94-2.06 2.06-.94-2.06-.94-.94-2.06-.94 2.06-2.06.94z\"/><path d=\"M17.41 7.96l-1.37-1.37c-.4-.4-.92-.59-1.43-.59-.52 0-1.04.2-1.43.59L10.3 9.45l-7.72 7.72c-.78.78-.78 2.05 0 2.83L4 21.41c.39.39.9.59 1.41.59.51 0 1.02-.2 1.41-.59l7.78-7.78 2.81-2.81c.8-.78.8-2.07 0-2.86zM5.41 20L4 18.59l7.72-7.72 1.47 1.35L5.41 20z\"/>\n",
              "  </svg>\n",
              "      </button>\n",
              "      \n",
              "  <style>\n",
              "    .colab-df-container {\n",
              "      display:flex;\n",
              "      flex-wrap:wrap;\n",
              "      gap: 12px;\n",
              "    }\n",
              "\n",
              "    .colab-df-convert {\n",
              "      background-color: #E8F0FE;\n",
              "      border: none;\n",
              "      border-radius: 50%;\n",
              "      cursor: pointer;\n",
              "      display: none;\n",
              "      fill: #1967D2;\n",
              "      height: 32px;\n",
              "      padding: 0 0 0 0;\n",
              "      width: 32px;\n",
              "    }\n",
              "\n",
              "    .colab-df-convert:hover {\n",
              "      background-color: #E2EBFA;\n",
              "      box-shadow: 0px 1px 2px rgba(60, 64, 67, 0.3), 0px 1px 3px 1px rgba(60, 64, 67, 0.15);\n",
              "      fill: #174EA6;\n",
              "    }\n",
              "\n",
              "    [theme=dark] .colab-df-convert {\n",
              "      background-color: #3B4455;\n",
              "      fill: #D2E3FC;\n",
              "    }\n",
              "\n",
              "    [theme=dark] .colab-df-convert:hover {\n",
              "      background-color: #434B5C;\n",
              "      box-shadow: 0px 1px 3px 1px rgba(0, 0, 0, 0.15);\n",
              "      filter: drop-shadow(0px 1px 2px rgba(0, 0, 0, 0.3));\n",
              "      fill: #FFFFFF;\n",
              "    }\n",
              "  </style>\n",
              "\n",
              "      <script>\n",
              "        const buttonEl =\n",
              "          document.querySelector('#df-1dc8d2c1-53fd-45f2-96a3-9baf973f8e6f button.colab-df-convert');\n",
              "        buttonEl.style.display =\n",
              "          google.colab.kernel.accessAllowed ? 'block' : 'none';\n",
              "\n",
              "        async function convertToInteractive(key) {\n",
              "          const element = document.querySelector('#df-1dc8d2c1-53fd-45f2-96a3-9baf973f8e6f');\n",
              "          const dataTable =\n",
              "            await google.colab.kernel.invokeFunction('convertToInteractive',\n",
              "                                                     [key], {});\n",
              "          if (!dataTable) return;\n",
              "\n",
              "          const docLinkHtml = 'Like what you see? Visit the ' +\n",
              "            '<a target=\"_blank\" href=https://colab.research.google.com/notebooks/data_table.ipynb>data table notebook</a>'\n",
              "            + ' to learn more about interactive tables.';\n",
              "          element.innerHTML = '';\n",
              "          dataTable['output_type'] = 'display_data';\n",
              "          await google.colab.output.renderOutput(dataTable, element);\n",
              "          const docLink = document.createElement('div');\n",
              "          docLink.innerHTML = docLinkHtml;\n",
              "          element.appendChild(docLink);\n",
              "        }\n",
              "      </script>\n",
              "    </div>\n",
              "  </div>\n",
              "  "
            ],
            "text/plain": [
              "  session  clicks  carts  orders\n",
              "0       0     255     17       4\n",
              "1       1      24      8       0\n",
              "2       2      32      1       0\n",
              "3       3     200     21       5\n",
              "4       4      15      3       1"
            ]
          },
          "execution_count": 8,
          "metadata": {},
          "output_type": "execute_result"
        }
      ],
      "source": [
        "%%time\n",
        "with open('train.jsonl') as f:\n",
        "  sessions = []\n",
        "  clicks = []\n",
        "  carts = []\n",
        "  orders = []\n",
        "  \n",
        "  pattern = re.compile(r'\"type\":\".*?\"')\n",
        "  pattern2 = re.compile(r'\"session\":.*?,')\n",
        "\n",
        "  for line in f:\n",
        "    session = re.findall(pattern2, line)[0].split(':')[1].rstrip(',')\n",
        "    num_clicks = 0\n",
        "    num_carts = 0\n",
        "    num_orders = 0\n",
        "\n",
        "    for i in re.findall(pattern, line):\n",
        "      this_type = i.split(':')[1].strip('\"')\n",
        "      if this_type=='clicks':\n",
        "        num_clicks += 1\n",
        "      elif this_type=='carts':\n",
        "        num_carts += 1\n",
        "      elif this_type=='orders':\n",
        "        num_orders += 1\n",
        "      else:\n",
        "        raise ValueError\n",
        "\n",
        "    sessions.append(session)\n",
        "    clicks.append(num_clicks)\n",
        "    carts.append(num_carts)\n",
        "    orders.append(num_orders)\n",
        "\n",
        "df_train_frequency = pd.DataFrame()\n",
        "df_train_frequency['session'] = sessions\n",
        "df_train_frequency['clicks'] = clicks\n",
        "df_train_frequency['carts'] = carts\n",
        "df_train_frequency['orders'] = orders\n",
        "\n",
        "print(df_train_frequency.shape)\n",
        "df_train_frequency.head()"
      ]
    },
    {
      "cell_type": "code",
      "execution_count": null,
      "metadata": {
        "colab": {
          "base_uri": "https://localhost:8080/",
          "height": 35
        },
        "id": "7Jf1FiAOIsPY",
        "outputId": "7b457f91-69c0-4b9c-f12a-ebc976c93ea6"
      },
      "outputs": [
        {
          "data": {
            "application/vnd.google.colaboratory.intrinsic+json": {
              "type": "string"
            },
            "text/plain": [
              "'9999999'"
            ]
          },
          "execution_count": 37,
          "metadata": {},
          "output_type": "execute_result"
        }
      ],
      "source": [
        "df_train_frequency['session'].max()"
      ]
    },
    {
      "cell_type": "code",
      "execution_count": null,
      "metadata": {
        "colab": {
          "base_uri": "https://localhost:8080/",
          "height": 35
        },
        "id": "45OG7z9XLSmU",
        "outputId": "8c3231f8-0ed9-419b-a361-dd5932d0e6a2"
      },
      "outputs": [
        {
          "data": {
            "application/vnd.google.colaboratory.intrinsic+json": {
              "type": "string"
            },
            "text/plain": [
              "'12899779'"
            ]
          },
          "execution_count": 39,
          "metadata": {},
          "output_type": "execute_result"
        }
      ],
      "source": [
        "df_test_frequency['session'].min()"
      ]
    },
    {
      "cell_type": "code",
      "execution_count": null,
      "metadata": {
        "colab": {
          "base_uri": "https://localhost:8080/",
          "height": 424
        },
        "id": "9gFEFylRLmio",
        "outputId": "50d197ef-36be-42b4-bfae-c43844ea4c4e"
      },
      "outputs": [
        {
          "data": {
            "text/html": [
              "\n",
              "  <div id=\"df-5f1d7c51-ae45-4d77-a3cf-946c3ec5c432\">\n",
              "    <div class=\"colab-df-container\">\n",
              "      <div>\n",
              "<style scoped>\n",
              "    .dataframe tbody tr th:only-of-type {\n",
              "        vertical-align: middle;\n",
              "    }\n",
              "\n",
              "    .dataframe tbody tr th {\n",
              "        vertical-align: top;\n",
              "    }\n",
              "\n",
              "    .dataframe thead th {\n",
              "        text-align: right;\n",
              "    }\n",
              "</style>\n",
              "<table border=\"1\" class=\"dataframe\">\n",
              "  <thead>\n",
              "    <tr style=\"text-align: right;\">\n",
              "      <th></th>\n",
              "      <th>session</th>\n",
              "      <th>clicks</th>\n",
              "      <th>carts</th>\n",
              "      <th>orders</th>\n",
              "    </tr>\n",
              "  </thead>\n",
              "  <tbody>\n",
              "    <tr>\n",
              "      <th>0</th>\n",
              "      <td>0</td>\n",
              "      <td>255</td>\n",
              "      <td>17</td>\n",
              "      <td>4</td>\n",
              "    </tr>\n",
              "    <tr>\n",
              "      <th>1</th>\n",
              "      <td>1</td>\n",
              "      <td>24</td>\n",
              "      <td>8</td>\n",
              "      <td>0</td>\n",
              "    </tr>\n",
              "    <tr>\n",
              "      <th>2</th>\n",
              "      <td>2</td>\n",
              "      <td>32</td>\n",
              "      <td>1</td>\n",
              "      <td>0</td>\n",
              "    </tr>\n",
              "    <tr>\n",
              "      <th>3</th>\n",
              "      <td>3</td>\n",
              "      <td>200</td>\n",
              "      <td>21</td>\n",
              "      <td>5</td>\n",
              "    </tr>\n",
              "    <tr>\n",
              "      <th>4</th>\n",
              "      <td>4</td>\n",
              "      <td>15</td>\n",
              "      <td>3</td>\n",
              "      <td>1</td>\n",
              "    </tr>\n",
              "    <tr>\n",
              "      <th>...</th>\n",
              "      <td>...</td>\n",
              "      <td>...</td>\n",
              "      <td>...</td>\n",
              "      <td>...</td>\n",
              "    </tr>\n",
              "    <tr>\n",
              "      <th>12899774</th>\n",
              "      <td>12899774</td>\n",
              "      <td>2</td>\n",
              "      <td>0</td>\n",
              "      <td>0</td>\n",
              "    </tr>\n",
              "    <tr>\n",
              "      <th>12899775</th>\n",
              "      <td>12899775</td>\n",
              "      <td>2</td>\n",
              "      <td>0</td>\n",
              "      <td>0</td>\n",
              "    </tr>\n",
              "    <tr>\n",
              "      <th>12899776</th>\n",
              "      <td>12899776</td>\n",
              "      <td>2</td>\n",
              "      <td>0</td>\n",
              "      <td>0</td>\n",
              "    </tr>\n",
              "    <tr>\n",
              "      <th>12899777</th>\n",
              "      <td>12899777</td>\n",
              "      <td>2</td>\n",
              "      <td>0</td>\n",
              "      <td>0</td>\n",
              "    </tr>\n",
              "    <tr>\n",
              "      <th>12899778</th>\n",
              "      <td>12899778</td>\n",
              "      <td>2</td>\n",
              "      <td>0</td>\n",
              "      <td>0</td>\n",
              "    </tr>\n",
              "  </tbody>\n",
              "</table>\n",
              "<p>12899779 rows × 4 columns</p>\n",
              "</div>\n",
              "      <button class=\"colab-df-convert\" onclick=\"convertToInteractive('df-5f1d7c51-ae45-4d77-a3cf-946c3ec5c432')\"\n",
              "              title=\"Convert this dataframe to an interactive table.\"\n",
              "              style=\"display:none;\">\n",
              "        \n",
              "  <svg xmlns=\"http://www.w3.org/2000/svg\" height=\"24px\"viewBox=\"0 0 24 24\"\n",
              "       width=\"24px\">\n",
              "    <path d=\"M0 0h24v24H0V0z\" fill=\"none\"/>\n",
              "    <path d=\"M18.56 5.44l.94 2.06.94-2.06 2.06-.94-2.06-.94-.94-2.06-.94 2.06-2.06.94zm-11 1L8.5 8.5l.94-2.06 2.06-.94-2.06-.94L8.5 2.5l-.94 2.06-2.06.94zm10 10l.94 2.06.94-2.06 2.06-.94-2.06-.94-.94-2.06-.94 2.06-2.06.94z\"/><path d=\"M17.41 7.96l-1.37-1.37c-.4-.4-.92-.59-1.43-.59-.52 0-1.04.2-1.43.59L10.3 9.45l-7.72 7.72c-.78.78-.78 2.05 0 2.83L4 21.41c.39.39.9.59 1.41.59.51 0 1.02-.2 1.41-.59l7.78-7.78 2.81-2.81c.8-.78.8-2.07 0-2.86zM5.41 20L4 18.59l7.72-7.72 1.47 1.35L5.41 20z\"/>\n",
              "  </svg>\n",
              "      </button>\n",
              "      \n",
              "  <style>\n",
              "    .colab-df-container {\n",
              "      display:flex;\n",
              "      flex-wrap:wrap;\n",
              "      gap: 12px;\n",
              "    }\n",
              "\n",
              "    .colab-df-convert {\n",
              "      background-color: #E8F0FE;\n",
              "      border: none;\n",
              "      border-radius: 50%;\n",
              "      cursor: pointer;\n",
              "      display: none;\n",
              "      fill: #1967D2;\n",
              "      height: 32px;\n",
              "      padding: 0 0 0 0;\n",
              "      width: 32px;\n",
              "    }\n",
              "\n",
              "    .colab-df-convert:hover {\n",
              "      background-color: #E2EBFA;\n",
              "      box-shadow: 0px 1px 2px rgba(60, 64, 67, 0.3), 0px 1px 3px 1px rgba(60, 64, 67, 0.15);\n",
              "      fill: #174EA6;\n",
              "    }\n",
              "\n",
              "    [theme=dark] .colab-df-convert {\n",
              "      background-color: #3B4455;\n",
              "      fill: #D2E3FC;\n",
              "    }\n",
              "\n",
              "    [theme=dark] .colab-df-convert:hover {\n",
              "      background-color: #434B5C;\n",
              "      box-shadow: 0px 1px 3px 1px rgba(0, 0, 0, 0.15);\n",
              "      filter: drop-shadow(0px 1px 2px rgba(0, 0, 0, 0.3));\n",
              "      fill: #FFFFFF;\n",
              "    }\n",
              "  </style>\n",
              "\n",
              "      <script>\n",
              "        const buttonEl =\n",
              "          document.querySelector('#df-5f1d7c51-ae45-4d77-a3cf-946c3ec5c432 button.colab-df-convert');\n",
              "        buttonEl.style.display =\n",
              "          google.colab.kernel.accessAllowed ? 'block' : 'none';\n",
              "\n",
              "        async function convertToInteractive(key) {\n",
              "          const element = document.querySelector('#df-5f1d7c51-ae45-4d77-a3cf-946c3ec5c432');\n",
              "          const dataTable =\n",
              "            await google.colab.kernel.invokeFunction('convertToInteractive',\n",
              "                                                     [key], {});\n",
              "          if (!dataTable) return;\n",
              "\n",
              "          const docLinkHtml = 'Like what you see? Visit the ' +\n",
              "            '<a target=\"_blank\" href=https://colab.research.google.com/notebooks/data_table.ipynb>data table notebook</a>'\n",
              "            + ' to learn more about interactive tables.';\n",
              "          element.innerHTML = '';\n",
              "          dataTable['output_type'] = 'display_data';\n",
              "          await google.colab.output.renderOutput(dataTable, element);\n",
              "          const docLink = document.createElement('div');\n",
              "          docLink.innerHTML = docLinkHtml;\n",
              "          element.appendChild(docLink);\n",
              "        }\n",
              "      </script>\n",
              "    </div>\n",
              "  </div>\n",
              "  "
            ],
            "text/plain": [
              "           session  clicks  carts  orders\n",
              "0                0     255     17       4\n",
              "1                1      24      8       0\n",
              "2                2      32      1       0\n",
              "3                3     200     21       5\n",
              "4                4      15      3       1\n",
              "...            ...     ...    ...     ...\n",
              "12899774  12899774       2      0       0\n",
              "12899775  12899775       2      0       0\n",
              "12899776  12899776       2      0       0\n",
              "12899777  12899777       2      0       0\n",
              "12899778  12899778       2      0       0\n",
              "\n",
              "[12899779 rows x 4 columns]"
            ]
          },
          "execution_count": 40,
          "metadata": {},
          "output_type": "execute_result"
        }
      ],
      "source": [
        "df_train_frequency"
      ]
    },
    {
      "cell_type": "markdown",
      "metadata": {
        "id": "_c5AWaeDNBSK"
      },
      "source": [
        "### get dna of each session"
      ]
    },
    {
      "cell_type": "code",
      "execution_count": null,
      "metadata": {
        "colab": {
          "base_uri": "https://localhost:8080/",
          "height": 260
        },
        "id": "V1McrgO-NES_",
        "outputId": "8e96662f-d55d-4dd3-9057-2adc1aa1ba3c"
      },
      "outputs": [
        {
          "name": "stdout",
          "output_type": "stream",
          "text": [
            "(1671803, 2)\n",
            "CPU times: user 13.3 s, sys: 526 ms, total: 13.9 s\n",
            "Wall time: 14.3 s\n"
          ]
        },
        {
          "data": {
            "text/html": [
              "\n",
              "  <div id=\"df-5c877b7a-2831-4f13-a3e3-86aab9fdf7e8\">\n",
              "    <div class=\"colab-df-container\">\n",
              "      <div>\n",
              "<style scoped>\n",
              "    .dataframe tbody tr th:only-of-type {\n",
              "        vertical-align: middle;\n",
              "    }\n",
              "\n",
              "    .dataframe tbody tr th {\n",
              "        vertical-align: top;\n",
              "    }\n",
              "\n",
              "    .dataframe thead th {\n",
              "        text-align: right;\n",
              "    }\n",
              "</style>\n",
              "<table border=\"1\" class=\"dataframe\">\n",
              "  <thead>\n",
              "    <tr style=\"text-align: right;\">\n",
              "      <th></th>\n",
              "      <th>session</th>\n",
              "      <th>dna</th>\n",
              "    </tr>\n",
              "  </thead>\n",
              "  <tbody>\n",
              "    <tr>\n",
              "      <th>0</th>\n",
              "      <td>12899779</td>\n",
              "      <td>c</td>\n",
              "    </tr>\n",
              "    <tr>\n",
              "      <th>1</th>\n",
              "      <td>12899780</td>\n",
              "      <td>ccccc</td>\n",
              "    </tr>\n",
              "    <tr>\n",
              "      <th>2</th>\n",
              "      <td>12899781</td>\n",
              "      <td>ccccccacccc</td>\n",
              "    </tr>\n",
              "    <tr>\n",
              "      <th>3</th>\n",
              "      <td>12899782</td>\n",
              "      <td>ccccaccccccaccccacaccacaccccacaccccacccaaccccc...</td>\n",
              "    </tr>\n",
              "    <tr>\n",
              "      <th>4</th>\n",
              "      <td>12899783</td>\n",
              "      <td>ccccccccccc</td>\n",
              "    </tr>\n",
              "  </tbody>\n",
              "</table>\n",
              "</div>\n",
              "      <button class=\"colab-df-convert\" onclick=\"convertToInteractive('df-5c877b7a-2831-4f13-a3e3-86aab9fdf7e8')\"\n",
              "              title=\"Convert this dataframe to an interactive table.\"\n",
              "              style=\"display:none;\">\n",
              "        \n",
              "  <svg xmlns=\"http://www.w3.org/2000/svg\" height=\"24px\"viewBox=\"0 0 24 24\"\n",
              "       width=\"24px\">\n",
              "    <path d=\"M0 0h24v24H0V0z\" fill=\"none\"/>\n",
              "    <path d=\"M18.56 5.44l.94 2.06.94-2.06 2.06-.94-2.06-.94-.94-2.06-.94 2.06-2.06.94zm-11 1L8.5 8.5l.94-2.06 2.06-.94-2.06-.94L8.5 2.5l-.94 2.06-2.06.94zm10 10l.94 2.06.94-2.06 2.06-.94-2.06-.94-.94-2.06-.94 2.06-2.06.94z\"/><path d=\"M17.41 7.96l-1.37-1.37c-.4-.4-.92-.59-1.43-.59-.52 0-1.04.2-1.43.59L10.3 9.45l-7.72 7.72c-.78.78-.78 2.05 0 2.83L4 21.41c.39.39.9.59 1.41.59.51 0 1.02-.2 1.41-.59l7.78-7.78 2.81-2.81c.8-.78.8-2.07 0-2.86zM5.41 20L4 18.59l7.72-7.72 1.47 1.35L5.41 20z\"/>\n",
              "  </svg>\n",
              "      </button>\n",
              "      \n",
              "  <style>\n",
              "    .colab-df-container {\n",
              "      display:flex;\n",
              "      flex-wrap:wrap;\n",
              "      gap: 12px;\n",
              "    }\n",
              "\n",
              "    .colab-df-convert {\n",
              "      background-color: #E8F0FE;\n",
              "      border: none;\n",
              "      border-radius: 50%;\n",
              "      cursor: pointer;\n",
              "      display: none;\n",
              "      fill: #1967D2;\n",
              "      height: 32px;\n",
              "      padding: 0 0 0 0;\n",
              "      width: 32px;\n",
              "    }\n",
              "\n",
              "    .colab-df-convert:hover {\n",
              "      background-color: #E2EBFA;\n",
              "      box-shadow: 0px 1px 2px rgba(60, 64, 67, 0.3), 0px 1px 3px 1px rgba(60, 64, 67, 0.15);\n",
              "      fill: #174EA6;\n",
              "    }\n",
              "\n",
              "    [theme=dark] .colab-df-convert {\n",
              "      background-color: #3B4455;\n",
              "      fill: #D2E3FC;\n",
              "    }\n",
              "\n",
              "    [theme=dark] .colab-df-convert:hover {\n",
              "      background-color: #434B5C;\n",
              "      box-shadow: 0px 1px 3px 1px rgba(0, 0, 0, 0.15);\n",
              "      filter: drop-shadow(0px 1px 2px rgba(0, 0, 0, 0.3));\n",
              "      fill: #FFFFFF;\n",
              "    }\n",
              "  </style>\n",
              "\n",
              "      <script>\n",
              "        const buttonEl =\n",
              "          document.querySelector('#df-5c877b7a-2831-4f13-a3e3-86aab9fdf7e8 button.colab-df-convert');\n",
              "        buttonEl.style.display =\n",
              "          google.colab.kernel.accessAllowed ? 'block' : 'none';\n",
              "\n",
              "        async function convertToInteractive(key) {\n",
              "          const element = document.querySelector('#df-5c877b7a-2831-4f13-a3e3-86aab9fdf7e8');\n",
              "          const dataTable =\n",
              "            await google.colab.kernel.invokeFunction('convertToInteractive',\n",
              "                                                     [key], {});\n",
              "          if (!dataTable) return;\n",
              "\n",
              "          const docLinkHtml = 'Like what you see? Visit the ' +\n",
              "            '<a target=\"_blank\" href=https://colab.research.google.com/notebooks/data_table.ipynb>data table notebook</a>'\n",
              "            + ' to learn more about interactive tables.';\n",
              "          element.innerHTML = '';\n",
              "          dataTable['output_type'] = 'display_data';\n",
              "          await google.colab.output.renderOutput(dataTable, element);\n",
              "          const docLink = document.createElement('div');\n",
              "          docLink.innerHTML = docLinkHtml;\n",
              "          element.appendChild(docLink);\n",
              "        }\n",
              "      </script>\n",
              "    </div>\n",
              "  </div>\n",
              "  "
            ],
            "text/plain": [
              "    session                                                dna\n",
              "0  12899779                                                  c\n",
              "1  12899780                                              ccccc\n",
              "2  12899781                                        ccccccacccc\n",
              "3  12899782  ccccaccccccaccccacaccacaccccacaccccacccaaccccc...\n",
              "4  12899783                                        ccccccccccc"
            ]
          },
          "execution_count": 7,
          "metadata": {},
          "output_type": "execute_result"
        }
      ],
      "source": [
        "%%time\n",
        "with open('test.jsonl') as f:\n",
        "  sessions = []\n",
        "  dnas = []\n",
        "  \n",
        "  pattern = re.compile(r'\"type\":\".*?\"')\n",
        "  pattern2 = re.compile(r'\"session\":.*?,')\n",
        "\n",
        "  for line in f:\n",
        "    session = re.findall(pattern2, line)[0].split(':')[1].rstrip(',')\n",
        "    dna = ''\n",
        "\n",
        "    for i in re.findall(pattern, line):\n",
        "      this_type = i.split(':')[1].strip('\"')\n",
        "      if this_type=='clicks':\n",
        "        dna += 'c'\n",
        "      elif this_type=='carts':\n",
        "        dna += 'a'\n",
        "      elif this_type=='orders':\n",
        "        dna += 'o'\n",
        "      else:\n",
        "        raise ValueError\n",
        "\n",
        "    sessions.append(session)\n",
        "    dnas.append(dna)\n",
        "\n",
        "df_test_dna = pd.DataFrame()\n",
        "df_test_dna['session'] = sessions\n",
        "df_test_dna['dna'] = dnas\n",
        "\n",
        "print(df_test_dna.shape)\n",
        "df_test_dna.head()"
      ]
    },
    {
      "cell_type": "code",
      "execution_count": null,
      "metadata": {
        "colab": {
          "base_uri": "https://localhost:8080/",
          "height": 260
        },
        "id": "NC_m1GHbNYaS",
        "outputId": "1ba54d7b-a894-4803-a912-75765373d70b"
      },
      "outputs": [
        {
          "name": "stdout",
          "output_type": "stream",
          "text": [
            "(12899779, 2)\n",
            "CPU times: user 4min 44s, sys: 14.2 s, total: 4min 59s\n",
            "Wall time: 5min 16s\n"
          ]
        },
        {
          "data": {
            "text/html": [
              "\n",
              "  <div id=\"df-15801542-3831-462d-bb58-f1ccdf650284\">\n",
              "    <div class=\"colab-df-container\">\n",
              "      <div>\n",
              "<style scoped>\n",
              "    .dataframe tbody tr th:only-of-type {\n",
              "        vertical-align: middle;\n",
              "    }\n",
              "\n",
              "    .dataframe tbody tr th {\n",
              "        vertical-align: top;\n",
              "    }\n",
              "\n",
              "    .dataframe thead th {\n",
              "        text-align: right;\n",
              "    }\n",
              "</style>\n",
              "<table border=\"1\" class=\"dataframe\">\n",
              "  <thead>\n",
              "    <tr style=\"text-align: right;\">\n",
              "      <th></th>\n",
              "      <th>session</th>\n",
              "      <th>dna</th>\n",
              "    </tr>\n",
              "  </thead>\n",
              "  <tbody>\n",
              "    <tr>\n",
              "      <th>0</th>\n",
              "      <td>0</td>\n",
              "      <td>ccccccaaoocccccccccccccccccccccccccccccccccacc...</td>\n",
              "    </tr>\n",
              "    <tr>\n",
              "      <th>1</th>\n",
              "      <td>1</td>\n",
              "      <td>acacacacccccccaccaccaccacccccccc</td>\n",
              "    </tr>\n",
              "    <tr>\n",
              "      <th>2</th>\n",
              "      <td>2</td>\n",
              "      <td>ccccccccccccccccccccacccccccccccc</td>\n",
              "    </tr>\n",
              "    <tr>\n",
              "      <th>3</th>\n",
              "      <td>3</td>\n",
              "      <td>acccaccccccccccccacooocccccccccccccccccccccccc...</td>\n",
              "    </tr>\n",
              "    <tr>\n",
              "      <th>4</th>\n",
              "      <td>4</td>\n",
              "      <td>ccoccccccccacacaccc</td>\n",
              "    </tr>\n",
              "  </tbody>\n",
              "</table>\n",
              "</div>\n",
              "      <button class=\"colab-df-convert\" onclick=\"convertToInteractive('df-15801542-3831-462d-bb58-f1ccdf650284')\"\n",
              "              title=\"Convert this dataframe to an interactive table.\"\n",
              "              style=\"display:none;\">\n",
              "        \n",
              "  <svg xmlns=\"http://www.w3.org/2000/svg\" height=\"24px\"viewBox=\"0 0 24 24\"\n",
              "       width=\"24px\">\n",
              "    <path d=\"M0 0h24v24H0V0z\" fill=\"none\"/>\n",
              "    <path d=\"M18.56 5.44l.94 2.06.94-2.06 2.06-.94-2.06-.94-.94-2.06-.94 2.06-2.06.94zm-11 1L8.5 8.5l.94-2.06 2.06-.94-2.06-.94L8.5 2.5l-.94 2.06-2.06.94zm10 10l.94 2.06.94-2.06 2.06-.94-2.06-.94-.94-2.06-.94 2.06-2.06.94z\"/><path d=\"M17.41 7.96l-1.37-1.37c-.4-.4-.92-.59-1.43-.59-.52 0-1.04.2-1.43.59L10.3 9.45l-7.72 7.72c-.78.78-.78 2.05 0 2.83L4 21.41c.39.39.9.59 1.41.59.51 0 1.02-.2 1.41-.59l7.78-7.78 2.81-2.81c.8-.78.8-2.07 0-2.86zM5.41 20L4 18.59l7.72-7.72 1.47 1.35L5.41 20z\"/>\n",
              "  </svg>\n",
              "      </button>\n",
              "      \n",
              "  <style>\n",
              "    .colab-df-container {\n",
              "      display:flex;\n",
              "      flex-wrap:wrap;\n",
              "      gap: 12px;\n",
              "    }\n",
              "\n",
              "    .colab-df-convert {\n",
              "      background-color: #E8F0FE;\n",
              "      border: none;\n",
              "      border-radius: 50%;\n",
              "      cursor: pointer;\n",
              "      display: none;\n",
              "      fill: #1967D2;\n",
              "      height: 32px;\n",
              "      padding: 0 0 0 0;\n",
              "      width: 32px;\n",
              "    }\n",
              "\n",
              "    .colab-df-convert:hover {\n",
              "      background-color: #E2EBFA;\n",
              "      box-shadow: 0px 1px 2px rgba(60, 64, 67, 0.3), 0px 1px 3px 1px rgba(60, 64, 67, 0.15);\n",
              "      fill: #174EA6;\n",
              "    }\n",
              "\n",
              "    [theme=dark] .colab-df-convert {\n",
              "      background-color: #3B4455;\n",
              "      fill: #D2E3FC;\n",
              "    }\n",
              "\n",
              "    [theme=dark] .colab-df-convert:hover {\n",
              "      background-color: #434B5C;\n",
              "      box-shadow: 0px 1px 3px 1px rgba(0, 0, 0, 0.15);\n",
              "      filter: drop-shadow(0px 1px 2px rgba(0, 0, 0, 0.3));\n",
              "      fill: #FFFFFF;\n",
              "    }\n",
              "  </style>\n",
              "\n",
              "      <script>\n",
              "        const buttonEl =\n",
              "          document.querySelector('#df-15801542-3831-462d-bb58-f1ccdf650284 button.colab-df-convert');\n",
              "        buttonEl.style.display =\n",
              "          google.colab.kernel.accessAllowed ? 'block' : 'none';\n",
              "\n",
              "        async function convertToInteractive(key) {\n",
              "          const element = document.querySelector('#df-15801542-3831-462d-bb58-f1ccdf650284');\n",
              "          const dataTable =\n",
              "            await google.colab.kernel.invokeFunction('convertToInteractive',\n",
              "                                                     [key], {});\n",
              "          if (!dataTable) return;\n",
              "\n",
              "          const docLinkHtml = 'Like what you see? Visit the ' +\n",
              "            '<a target=\"_blank\" href=https://colab.research.google.com/notebooks/data_table.ipynb>data table notebook</a>'\n",
              "            + ' to learn more about interactive tables.';\n",
              "          element.innerHTML = '';\n",
              "          dataTable['output_type'] = 'display_data';\n",
              "          await google.colab.output.renderOutput(dataTable, element);\n",
              "          const docLink = document.createElement('div');\n",
              "          docLink.innerHTML = docLinkHtml;\n",
              "          element.appendChild(docLink);\n",
              "        }\n",
              "      </script>\n",
              "    </div>\n",
              "  </div>\n",
              "  "
            ],
            "text/plain": [
              "  session                                                dna\n",
              "0       0  ccccccaaoocccccccccccccccccccccccccccccccccacc...\n",
              "1       1                   acacacacccccccaccaccaccacccccccc\n",
              "2       2                  ccccccccccccccccccccacccccccccccc\n",
              "3       3  acccaccccccccccccacooocccccccccccccccccccccccc...\n",
              "4       4                                ccoccccccccacacaccc"
            ]
          },
          "execution_count": 8,
          "metadata": {},
          "output_type": "execute_result"
        }
      ],
      "source": [
        "%%time\n",
        "with open('train.jsonl') as f:\n",
        "  sessions = []\n",
        "  dnas = []\n",
        "  \n",
        "  pattern = re.compile(r'\"type\":\".*?\"')\n",
        "  pattern2 = re.compile(r'\"session\":.*?,')\n",
        "\n",
        "  for line in f:\n",
        "    session = re.findall(pattern2, line)[0].split(':')[1].rstrip(',')\n",
        "    dna = ''\n",
        "\n",
        "    for i in re.findall(pattern, line):\n",
        "      this_type = i.split(':')[1].strip('\"')\n",
        "      if this_type=='clicks':\n",
        "        dna += 'c'\n",
        "      elif this_type=='carts':\n",
        "        dna += 'a'\n",
        "      elif this_type=='orders':\n",
        "        dna += 'o'\n",
        "      else:\n",
        "        raise ValueError\n",
        "\n",
        "    sessions.append(session)\n",
        "    dnas.append(dna)\n",
        "\n",
        "df_train_dna = pd.DataFrame()\n",
        "df_train_dna['session'] = sessions\n",
        "df_train_dna['dna'] = dnas\n",
        "\n",
        "print(df_train_dna.shape)\n",
        "df_train_dna.head()"
      ]
    },
    {
      "cell_type": "markdown",
      "metadata": {
        "id": "ZlUH_3vkO3mj"
      },
      "source": [
        "### how many unique aid are there?\n",
        "\n",
        "    test  aid : 783486 -> 46.864% of test size\n",
        "    train aid : 1855603 -> 18.741% of train size\n",
        "    test size  : 1671803\n",
        "    train size : 9901335\n",
        "\n",
        "    All aid in test are subset of aid in train\n"
      ]
    },
    {
      "cell_type": "code",
      "execution_count": null,
      "metadata": {
        "colab": {
          "base_uri": "https://localhost:8080/"
        },
        "id": "4Av_fwFRPKBZ",
        "outputId": "db08a686-15e8-47d1-e66a-8be048d9ff4c"
      },
      "outputs": [
        {
          "name": "stdout",
          "output_type": "stream",
          "text": [
            "783486\n",
            "CPU times: user 15 s, sys: 407 ms, total: 15.4 s\n",
            "Wall time: 15.6 s\n"
          ]
        }
      ],
      "source": [
        "%%time\n",
        "with open('test.jsonl') as f:\n",
        "  unique_aids_test = set()\n",
        "  \n",
        "  pattern = re.compile(r'\"aid\":.*?,')\n",
        "  pattern2 = re.compile(r'\"session\":.*?,')\n",
        "\n",
        "  for line in f:\n",
        "    session = re.findall(pattern2, line)[0].split(':')[1].rstrip(',')\n",
        "\n",
        "    for i in re.findall(pattern, line):\n",
        "      this_aid = int(i.split(':')[1].rstrip(','))\n",
        "      unique_aids_test.add(this_aid)\n",
        "\n",
        "print(len(unique_aids_test))"
      ]
    },
    {
      "cell_type": "code",
      "execution_count": null,
      "metadata": {
        "colab": {
          "base_uri": "https://localhost:8080/"
        },
        "id": "_MM_PPOcRlgS",
        "outputId": "5a0603fe-25a8-4e0a-d19e-a3e0033495fd"
      },
      "outputs": [
        {
          "name": "stdout",
          "output_type": "stream",
          "text": [
            "1855603\n",
            "CPU times: user 5min 51s, sys: 10.4 s, total: 6min 1s\n",
            "Wall time: 6min 24s\n"
          ]
        }
      ],
      "source": [
        "%%time\n",
        "with open('train.jsonl') as f:\n",
        "  unique_aids_train = set()\n",
        "  \n",
        "  pattern = re.compile(r'\"aid\":.*?,')\n",
        "  pattern2 = re.compile(r'\"session\":.*?,')\n",
        "\n",
        "  for line in f:\n",
        "    session = re.findall(pattern2, line)[0].split(':')[1].rstrip(',')\n",
        "\n",
        "    for i in re.findall(pattern, line):\n",
        "      this_aid = int(i.split(':')[1].rstrip(','))\n",
        "      unique_aids_train.add(this_aid)\n",
        "\n",
        "print(len(unique_aids_train))"
      ]
    },
    {
      "cell_type": "markdown",
      "metadata": {
        "id": "SshgIg30RZk-"
      },
      "source": [
        "### Are all test aid present in train ? ---> Yes"
      ]
    },
    {
      "cell_type": "code",
      "execution_count": null,
      "metadata": {
        "colab": {
          "base_uri": "https://localhost:8080/"
        },
        "id": "VVla8VuLYYpY",
        "outputId": "b578fc54-f78a-42c6-fdc0-6dc05fe0b340"
      },
      "outputs": [
        {
          "data": {
            "text/plain": [
              "True"
            ]
          },
          "execution_count": 27,
          "metadata": {},
          "output_type": "execute_result"
        }
      ],
      "source": [
        "unique_aids_test.issubset(unique_aids_train)"
      ]
    },
    {
      "cell_type": "markdown",
      "metadata": {
        "id": "nLhd0Pa0P1n3"
      },
      "source": [
        "### How many carts are clicked before?  How many orders are  carted before? \n",
        "    \n",
        "    test :\n",
        "      num_carts = 570011\n",
        "      num_clicked_carts:num_notclicked_carts = 458561:111450 = 4.11 : 1\n",
        "      num_orders = 65480\n",
        "      num_clicked_orders:num_carted_orders:num_only_orders = 49146:8523:7811 = 5.77 : 1.09 : 1\n",
        "    train :\n",
        "      num_carts = 16896191\n",
        "      num_clicked_carts:num_notclicked_carts = 13798482:3097709 = 4.45 : 1\n",
        "      num_orders = 5098951\n",
        "      num_clicked_orders:num_carted_orders:num_only_orders = 4145828:677760:275363=  : 15.06: 2.46 : 1\n"
      ]
    },
    {
      "cell_type": "code",
      "execution_count": null,
      "metadata": {
        "colab": {
          "base_uri": "https://localhost:8080/"
        },
        "id": "RtqdPBnMRrNw",
        "outputId": "e7126929-5434-4635-ab0a-9cf24f0644b8"
      },
      "outputs": [
        {
          "output_type": "stream",
          "name": "stdout",
          "text": [
            "570011 : 458561 111450\n",
            "65480 : 49146 8523 7811\n",
            "CPU times: user 42.2 s, sys: 943 ms, total: 43.1 s\n",
            "Wall time: 43 s\n"
          ]
        }
      ],
      "source": [
        "%%time\n",
        "with open('test.jsonl') as f:\n",
        "  num_clicked_carts = 0\n",
        "  num_notclicked_carts = 0\n",
        "  num_carts = 0\n",
        "  num_clicked_orders = 0\n",
        "  num_carted_orders = 0\n",
        "  num_only_orders = 0\n",
        "  num_orders = 0\n",
        "\n",
        "  pattern0 = re.compile('\"events\":\\[.*\\]')\n",
        "  pattern = re.compile('{.*?}')\n",
        "  pattern2 = re.compile(r'\"aid\":.*?,')\n",
        "  pattern3 = re.compile(r'\"type\":\".*?\"')\n",
        "\n",
        "  for line in f:\n",
        "    events = re.findall(pattern0, line)[0]\n",
        "    events = re.findall(pattern, events)\n",
        "    clicked_aids = []\n",
        "    carted_aids = []\n",
        "\n",
        "    for event in events:\n",
        "      this_aid = re.findall(pattern2, event)[0].split(':')[1].rstrip(',')\n",
        "      this_type = re.findall(pattern3, event)[0].split(':')[1].strip('\"')\n",
        " \n",
        "      if this_type == 'clicks':\n",
        "        clicked_aids.append(this_aid)\n",
        "\n",
        "      elif this_type == 'carts':\n",
        "        carted_aids.append(this_aid)\n",
        "        num_carts += 1\n",
        "        if this_aid in clicked_aids:\n",
        "          num_clicked_carts += 1\n",
        "        else:\n",
        "          num_notclicked_carts += 1\n",
        "      \n",
        "      elif this_type == 'orders':\n",
        "        num_orders += 1\n",
        "        if this_aid in clicked_aids:\n",
        "          num_clicked_orders += 1\n",
        "        elif this_aid in carted_aids:\n",
        "          num_carted_orders += 1\n",
        "        else:\n",
        "          num_only_orders += 1\n",
        "\n",
        "print(num_carts, ':', num_clicked_carts, num_notclicked_carts)\n",
        "print(num_orders, ':', num_clicked_orders, num_carted_orders, num_only_orders)"
      ]
    },
    {
      "cell_type": "code",
      "source": [
        "%%time\n",
        "with open('train.jsonl') as f:\n",
        "  num_clicked_carts = 0\n",
        "  num_notclicked_carts = 0\n",
        "  num_carts = 0\n",
        "  num_clicked_orders = 0\n",
        "  num_carted_orders = 0\n",
        "  num_only_orders = 0\n",
        "  num_orders = 0\n",
        "\n",
        "  pattern0 = re.compile('\"events\":\\[.*\\]')\n",
        "  pattern = re.compile('{.*?}')\n",
        "  pattern2 = re.compile(r'\"aid\":.*?,')\n",
        "  pattern3 = re.compile(r'\"type\":\".*?\"')\n",
        "\n",
        "  for line in f:\n",
        "    events = re.findall(pattern0, line)[0]\n",
        "    events = re.findall(pattern, events)\n",
        "    clicked_aids = []\n",
        "    carted_aids = []\n",
        "\n",
        "    for event in events:\n",
        "      this_aid = re.findall(pattern2, event)[0].split(':')[1].rstrip(',')\n",
        "      this_type = re.findall(pattern3, event)[0].split(':')[1].strip('\"')\n",
        " \n",
        "      if this_type == 'clicks':\n",
        "        clicked_aids.append(this_aid)\n",
        "\n",
        "      elif this_type == 'carts':\n",
        "        carted_aids.append(this_aid)\n",
        "        num_carts += 1\n",
        "        if this_aid in clicked_aids:\n",
        "          num_clicked_carts += 1\n",
        "        else:\n",
        "          num_notclicked_carts += 1\n",
        "      \n",
        "      elif this_type == 'orders':\n",
        "        num_orders += 1\n",
        "        if this_aid in clicked_aids:\n",
        "          num_clicked_orders += 1\n",
        "        elif this_aid in carted_aids:\n",
        "          num_carted_orders += 1\n",
        "        else:\n",
        "          num_only_orders += 1\n",
        "\n",
        "print(num_carts, ':', num_clicked_carts, num_notclicked_carts)\n",
        "print(num_orders, ':', num_clicked_orders, num_carted_orders, num_only_orders)"
      ],
      "metadata": {
        "colab": {
          "base_uri": "https://localhost:8080/"
        },
        "id": "eszEvtQOO0TW",
        "outputId": "b8f6a068-f7dd-4167-f212-601809c7d636"
      },
      "execution_count": null,
      "outputs": [
        {
          "output_type": "stream",
          "name": "stdout",
          "text": [
            "16896191 : 13798482 3097709\n",
            "5098951 : 4145828 677760 275363\n",
            "CPU times: user 19min 26s, sys: 15.1 s, total: 19min 41s\n",
            "Wall time: 20min 8s\n"
          ]
        }
      ]
    }
  ],
  "metadata": {
    "colab": {
      "provenance": [],
      "collapsed_sections": [
        "P-V7tk4RD-7s",
        "pMZWFbCsEGzx",
        "8Ho0q9gVAZmz",
        "_c5AWaeDNBSK",
        "ZlUH_3vkO3mj",
        "SshgIg30RZk-"
      ]
    },
    "kernelspec": {
      "display_name": "Python 3",
      "name": "python3"
    },
    "language_info": {
      "name": "python"
    }
  },
  "nbformat": 4,
  "nbformat_minor": 0
}